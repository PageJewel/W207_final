{
 "cells": [
  {
   "cell_type": "markdown",
   "metadata": {},
   "source": [
    "**Import Libraries**"
   ]
  },
  {
   "cell_type": "code",
   "execution_count": 1,
   "metadata": {
    "collapsed": true
   },
   "outputs": [],
   "source": [
    "import numpy as np \n",
    "import pandas as pd\n",
    "from sklearn.neighbors import KNeighborsClassifier\n",
    "from sklearn.ensemble import RandomForestClassifier \n",
    "from sklearn.feature_selection import SelectKBest\n",
    "from sklearn import metrics\n",
    "\n",
    "import warnings\n",
    "warnings.filterwarnings('ignore')"
   ]
  },
  {
   "cell_type": "markdown",
   "metadata": {},
   "source": [
    "**Load Data**"
   ]
  },
  {
   "cell_type": "code",
   "execution_count": 2,
   "metadata": {
    "collapsed": false
   },
   "outputs": [],
   "source": [
    "full_train_data = np.loadtxt(\"train.csv\", dtype = \"int\", delimiter = \",\", skiprows=1)\n",
    "feature_names = np.loadtxt(\"train.csv\", dtype = \"str\", delimiter = \",\")[0,:]\n",
    "test_data = np.loadtxt(\"test.csv\", dtype = \"int\", delimiter = \",\", skiprows=1)"
   ]
  },
  {
   "cell_type": "markdown",
   "metadata": {},
   "source": [
    "**Prepare Data**"
   ]
  },
  {
   "cell_type": "code",
   "execution_count": 3,
   "metadata": {
    "collapsed": false
   },
   "outputs": [],
   "source": [
    "full_train_labels = full_train_data[:,full_train_data.shape[1]-1]\n",
    "full_train_data = full_train_data[:,:full_train_data.shape[1]-1]\n",
    "full_train_data = np.delete(full_train_data,0,1) #delete ID\n",
    "test_ids = test_data[:,0]\n",
    "test_data = np.delete(test_data,0,1) #delete ID"
   ]
  },
  {
   "cell_type": "markdown",
   "metadata": {},
   "source": [
    "**Split into Train and Dev Data**"
   ]
  },
  {
   "cell_type": "code",
   "execution_count": 5,
   "metadata": {
    "collapsed": false
   },
   "outputs": [],
   "source": [
    "np.random.seed(58230)\n",
    "shuffle = np.random.permutation(np.arange(full_train_data.shape[0]))\n",
    "full_train_data, full_train_labels = full_train_data[shuffle], full_train_labels[shuffle]\n",
    "\n",
    "train_data, train_labels = full_train_data[:14120], full_train_labels[:14120]\n",
    "dev_data, dev_labels = full_train_data[14120:], full_train_labels[14120:]"
   ]
  },
  {
   "cell_type": "markdown",
   "metadata": {},
   "source": [
    "**Modeling**"
   ]
  },
  {
   "cell_type": "markdown",
   "metadata": {},
   "source": [
    "Our ensemble model combined random forest with k-nearest neighbor. If the random forest predicted probability is greater than a certain threshold (i.e. 0.6), then the random forest prediction is used. If not, then the k-nearest neighbor prediction is used. We chose to combine these two models into an ensemble because our initial analysis showed random forest and k-nearest neighbor performing well out of the box."
   ]
  },
  {
   "cell_type": "code",
   "execution_count": 8,
   "metadata": {
    "collapsed": false
   },
   "outputs": [],
   "source": [
    "#Feature selection\n",
    "def my_featureselection(num_features, fit_data, fit_labels, transform_data):\n",
    "    selection = SelectKBest(k=num_features)\n",
    "    top_train = selection.fit_transform(fit_data,fit_labels)\n",
    "    top_test = selection.transform(transform_data)\n",
    "    return [top_train, top_test]\n",
    "\n",
    "#Ensemble Model\n",
    "def rf_then_knn(model_rf,model_knn,proba_threshold,test_data,train_data=train_data,train_labels=train_labels):\n",
    "    model_rf.fit(train_data,train_labels)\n",
    "    rf_test_preds = model_rf.predict(test_data)\n",
    "    rf_test_pred_proba = model_rf.predict_proba(test_data)\n",
    "    \n",
    "    top27_train_data,top27_test_data = my_featureselection(27,train_data,train_labels,test_data)\n",
    "    model_knn.fit(top27_train_data,train_labels)\n",
    "    knn_test_preds = model_knn.predict(top27_test_data)\n",
    "    \n",
    "    test_preds = []\n",
    "    for example_index in np.arange(rf_test_pred_proba.shape[0]):\n",
    "        if np.max(rf_test_pred_proba[example_index]) > proba_threshold:\n",
    "            test_preds.append(rf_test_preds[example_index])\n",
    "        else:\n",
    "            test_preds.append(knn_test_preds[example_index])\n",
    "    return test_preds"
   ]
  },
  {
   "cell_type": "markdown",
   "metadata": {},
   "source": [
    "**Run Model on Dev Data**"
   ]
  },
  {
   "cell_type": "code",
   "execution_count": 9,
   "metadata": {
    "collapsed": false
   },
   "outputs": [
    {
     "name": "stdout",
     "output_type": "stream",
     "text": [
      "0.892\n"
     ]
    }
   ],
   "source": [
    "model_knn = KNeighborsClassifier(n_neighbors=1,metric='braycurtis')\n",
    "model_rf = RandomForestClassifier(n_estimators=100,max_features=25,random_state=2)\n",
    "\n",
    "dev_preds = rf_then_knn(model_rf,model_knn,.6, dev_data)\n",
    "accuracy = metrics.accuracy_score(dev_labels,dev_preds)\n",
    "print(accuracy)"
   ]
  },
  {
   "cell_type": "markdown",
   "metadata": {},
   "source": [
    "**Run Model on Test Data**"
   ]
  },
  {
   "cell_type": "code",
   "execution_count": 10,
   "metadata": {
    "collapsed": true
   },
   "outputs": [],
   "source": [
    "model_knn = KNeighborsClassifier(n_neighbors=1,metric='braycurtis')\n",
    "model_rf = RandomForestClassifier(n_estimators=100,max_features=25,random_state=2)\n",
    "\n",
    "test_preds = rf_then_knn(model_rf,model_knn,.6, test_data)"
   ]
  },
  {
   "cell_type": "markdown",
   "metadata": {},
   "source": [
    "After submitting to Kaggle, we found that the accuracy on the test set is around 75%. We also submitted our baseline model (default k-nearest neighbor) to Kaggle and found an accuracy of 64%."
   ]
  },
  {
   "cell_type": "markdown",
   "metadata": {},
   "source": [
    "**Submit Results**"
   ]
  },
  {
   "cell_type": "code",
   "execution_count": 11,
   "metadata": {
    "collapsed": false
   },
   "outputs": [],
   "source": [
    "def preds_to_csv(preds,ids):\n",
    "    ids = np.asarray(ids)\n",
    "    cover_type = np.asarray(preds)\n",
    "    dat_submit = pd.DataFrame(np.column_stack((ids,cover_type)))\n",
    "    dat_submit.to_csv(\"predictions.csv\",header=[\"Id\",\"Cover_Type\"],index=False)"
   ]
  }
 ],
 "metadata": {
  "kernelspec": {
   "display_name": "Python 3",
   "language": "python",
   "name": "python3"
  },
  "language_info": {
   "codemirror_mode": {
    "name": "ipython",
    "version": 3
   },
   "file_extension": ".py",
   "mimetype": "text/x-python",
   "name": "python",
   "nbconvert_exporter": "python",
   "pygments_lexer": "ipython3",
   "version": "3.6.0"
  }
 },
 "nbformat": 4,
 "nbformat_minor": 2
}
