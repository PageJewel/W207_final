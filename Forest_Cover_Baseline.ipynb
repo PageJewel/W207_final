{
 "metadata": {
  "kernelspec": {
   "display_name": "Python 2",
   "language": "python",
   "name": "python2"
  },
  "language_info": {
   "codemirror_mode": {
    "name": "ipython",
    "version": 2
   },
   "file_extension": ".py",
   "mimetype": "text/x-python",
   "name": "python",
   "nbconvert_exporter": "python",
   "pygments_lexer": "ipython2",
   "version": "2.7.6"
  },
  "name": "",
  "signature": "sha256:6746c40dfe01c9f351ec2ae908c95a473722493a4bbfb1abcd629940ae16ec7e"
 },
 "nbformat": 3,
 "nbformat_minor": 0,
 "worksheets": [
  {
   "cells": [
    {
     "cell_type": "heading",
     "level": 1,
     "metadata": {},
     "source": [
      "Forest Cover Type: Baseline Classification"
     ]
    },
    {
     "cell_type": "markdown",
     "metadata": {},
     "source": [
      "For this project, we are working on predicting the forest cover type among 7 classifications based on cartographic variables from the US Geological Survey and USFS for each 30 x 30 meter cell of forest.\n",
      "\n",
      "For more details, please see: https://www.kaggle.com/c/forest-cover-type-prediction"
     ]
    },
    {
     "cell_type": "code",
     "collapsed": false,
     "input": [
      "# This tells matplotlib not to try opening a new window for each plot.\n",
      "%matplotlib inline\n",
      "\n",
      "# General libraries.\n",
      "import numpy as np\n",
      "import matplotlib.pyplot as plt\n",
      "\n",
      "# SK-learn libraries for learning.\n",
      "from sklearn.pipeline import Pipeline\n",
      "from sklearn.neighbors import KNeighborsClassifier\n",
      "from sklearn.linear_model import LogisticRegression\n",
      "from sklearn.naive_bayes import BernoulliNB\n",
      "from sklearn.naive_bayes import MultinomialNB\n",
      "from sklearn.naive_bayes import GaussianNB\n",
      "from sklearn.grid_search import GridSearchCV\n",
      "\n",
      "# SK-learn libraries for evaluation.\n",
      "from sklearn.metrics import confusion_matrix\n",
      "from sklearn import metrics\n",
      "from sklearn.metrics import classification_report"
     ],
     "language": "python",
     "metadata": {},
     "outputs": [],
     "prompt_number": 30
    },
    {
     "cell_type": "markdown",
     "metadata": {},
     "source": [
      "Load the training data. Note that kaggle has a separate file for test data which we will not load yet. Thus, we will split our training data into training and a dev set."
     ]
    },
    {
     "cell_type": "code",
     "collapsed": false,
     "input": [
      "# Load full training data set\n",
      "full_data = np.loadtxt(\"train.csv\", dtype = \"int\", delimiter = \",\", skiprows=1)\n",
      "feature_names = np.loadtxt(\"train.csv\", dtype = \"str\", delimiter = \",\")[0,:]\n",
      "\n",
      "# Split into data and labels\n",
      "full_data_labels = full_data[:,full_data.shape[1]-1]\n",
      "full_data = full_data[:,:full_data.shape[1]-1]\n",
      "\n",
      "print (\"full data shape: \", full_data.shape)\n",
      "print (\"full label shape:\", full_data_labels.shape)\n",
      "\n",
      "# Split into smaller training set and a dev set for us to use\n",
      "# Shuffle the input so that we get a random subset in training vs dev\n",
      "# Test set provided separately from kaggle where we do not know the labels\n",
      "np.random.seed(58230)\n",
      "shuffle = np.random.permutation(np.arange(full_data.shape[0]))\n",
      "full_data, full_data_labels = full_data[shuffle], full_data_labels[shuffle]\n",
      "\n",
      "train_data, train_labels = full_data[:14120], full_data_labels[:14120]\n",
      "dev_data, dev_labels = full_data[14120:], full_data_labels[14120:]\n",
      "\n",
      "print (\"\\ntrain data shape: \", train_data.shape)\n",
      "print (\"train label shape:\", train_labels.shape)\n",
      "print (\"\\ndev data shape: \", dev_data.shape)\n",
      "print (\"dev label shape:\", dev_labels.shape)\n",
      "\n",
      "\n",
      "# Print some basic info looking at a row of data\n",
      "print(\"\\nFeature names are:\")\n",
      "print(feature_names)\n",
      "\n",
      "print(\"\\nAn example row of training data:\")\n",
      "print(train_data[0])"
     ],
     "language": "python",
     "metadata": {},
     "outputs": [
      {
       "output_type": "stream",
       "stream": "stdout",
       "text": [
        "full data shape:  (15120, 55)\n",
        "full label shape: (15120,)\n",
        "\n",
        "train data shape:  (14120, 55)\n",
        "train label shape: (14120,)\n",
        "\n",
        "dev data shape:  (1000, 55)\n",
        "dev label shape: (1000,)\n",
        "\n",
        "Feature names are:\n",
        "['Id' 'Elevation' 'Aspect' 'Slope' 'Horizontal_Distance_To_Hydrology'\n",
        " 'Vertical_Distance_To_Hydrology' 'Horizontal_Distance_To_Roadways'\n",
        " 'Hillshade_9am' 'Hillshade_Noon' 'Hillshade_3pm'\n",
        " 'Horizontal_Distance_To_Fire_Points' 'Wilderness_Area1'\n",
        " 'Wilderness_Area2' 'Wilderness_Area3' 'Wilderness_Area4' 'Soil_Type1'\n",
        " 'Soil_Type2' 'Soil_Type3' 'Soil_Type4' 'Soil_Type5' 'Soil_Type6'\n",
        " 'Soil_Type7' 'Soil_Type8' 'Soil_Type9' 'Soil_Type10' 'Soil_Type11'\n",
        " 'Soil_Type12' 'Soil_Type13' 'Soil_Type14' 'Soil_Type15' 'Soil_Type16'\n",
        " 'Soil_Type17' 'Soil_Type18' 'Soil_Type19' 'Soil_Type20' 'Soil_Type21'\n",
        " 'Soil_Type22' 'Soil_Type23' 'Soil_Type24' 'Soil_Type25' 'Soil_Type26'\n",
        " 'Soil_Type27' 'Soil_Type28' 'Soil_Type29' 'Soil_Type30' 'Soil_Type31'\n",
        " 'Soil_Type32' 'Soil_Type33' 'Soil_Type34' 'Soil_Type35' 'Soil_Type36'\n",
        " 'Soil_Type37' 'Soil_Type38' 'Soil_Type39' 'Soil_Type40' 'Cover_Type']\n",
        "\n",
        "An example row of training data:\n",
        "[1252 2801   60   27  335  122  361  229  172   59 1900    1    0    0\n",
        "    0    0    0    0    0    0    0    0    0    0    0    0    0    0\n",
        "    0    0    0    0    0    0    0    0    0    0    0    0    0    0\n",
        "    0    1    0    0    0    0    0    0    0    0    0    0    0]\n"
       ]
      }
     ],
     "prompt_number": 22
    },
    {
     "cell_type": "markdown",
     "metadata": {},
     "source": [
      "Explore the data set a bit."
     ]
    },
    {
     "cell_type": "code",
     "collapsed": false,
     "input": [
      "# Make some histograms, etc\n",
      "\n"
     ],
     "language": "python",
     "metadata": {},
     "outputs": [],
     "prompt_number": 23
    },
    {
     "cell_type": "markdown",
     "metadata": {},
     "source": [
      "Run a basic logistic regression model."
     ]
    },
    {
     "cell_type": "code",
     "collapsed": false,
     "input": [
      "# Run logistic regression with default values and check accuracy\n",
      "model_log = LogisticRegression()\n",
      "model_log.fit(train_data, train_labels)\n",
      "\n",
      "print(\"Default logistic regression accuracy is %1.3f\" % (model_log.score(dev_data,dev_labels)))\n",
      "\n"
     ],
     "language": "python",
     "metadata": {},
     "outputs": [
      {
       "output_type": "stream",
       "stream": "stdout",
       "text": [
        "Default logistic regression accuracy is 0.638\n"
       ]
      }
     ],
     "prompt_number": 32
    },
    {
     "cell_type": "markdown",
     "metadata": {},
     "source": [
      "Run a basic Multinomial Naive Bayes model."
     ]
    },
    {
     "cell_type": "code",
     "collapsed": false,
     "input": [
      "# Run NB with default values and check accuracy\n",
      "model_NB = GaussianNB()\n",
      "model_NB.fit(train_data, train_labels)\n",
      "\n",
      "print(\"Default NB accuracy is %1.3f\" % (model_NB.score(dev_data,dev_labels)))\n"
     ],
     "language": "python",
     "metadata": {},
     "outputs": [
      {
       "output_type": "stream",
       "stream": "stdout",
       "text": [
        "Default NB accuracy is 0.652\n"
       ]
      }
     ],
     "prompt_number": 31
    },
    {
     "cell_type": "markdown",
     "metadata": {},
     "source": [
      "Run a basic k-Nearest Neighbors model."
     ]
    },
    {
     "cell_type": "code",
     "collapsed": false,
     "input": [
      "# Run k-NN with default values and check accuracy\n",
      "model_knn = KNeighborsClassifier()\n",
      "model_knn.fit(train_data, train_labels)\n",
      "\n",
      "print(\"Default k-NN accuracy is %1.3f\" % (model_knn.score(dev_data,dev_labels)))\n",
      "\n"
     ],
     "language": "python",
     "metadata": {},
     "outputs": [
      {
       "output_type": "stream",
       "stream": "stdout",
       "text": [
        "Default k-NN accuracy is 0.820\n"
       ]
      }
     ],
     "prompt_number": 33
    }
   ],
   "metadata": {}
  }
 ]
}