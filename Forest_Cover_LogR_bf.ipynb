{
 "cells": [
  {
   "cell_type": "markdown",
   "metadata": {},
   "source": [
    "# Forest Cover Type: Baseline Classification"
   ]
  },
  {
   "cell_type": "markdown",
   "metadata": {},
   "source": [
    "For this project, we are working on predicting the forest cover type among 7 classifications based on cartographic variables from the US Geological Survey and USFS for each 30 x 30 meter cell of forest.\n",
    "\n",
    "For more details, please see: https://www.kaggle.com/c/forest-cover-type-prediction"
   ]
  },
  {
   "cell_type": "code",
   "execution_count": 1,
   "metadata": {},
   "outputs": [
    {
     "name": "stderr",
     "output_type": "stream",
     "text": [
      "C:\\Users\\Storm\\Anaconda3\\lib\\site-packages\\sklearn\\cross_validation.py:41: DeprecationWarning: This module was deprecated in version 0.18 in favor of the model_selection module into which all the refactored classes and functions are moved. Also note that the interface of the new CV iterators are different from that of this module. This module will be removed in 0.20.\n",
      "  \"This module will be removed in 0.20.\", DeprecationWarning)\n",
      "C:\\Users\\Storm\\Anaconda3\\lib\\site-packages\\sklearn\\grid_search.py:42: DeprecationWarning: This module was deprecated in version 0.18 in favor of the model_selection module into which all the refactored classes and functions are moved. This module will be removed in 0.20.\n",
      "  DeprecationWarning)\n"
     ]
    }
   ],
   "source": [
    "# This tells matplotlib not to try opening a new window for each plot.\n",
    "%matplotlib inline\n",
    "\n",
    "# General libraries.\n",
    "import numpy as np\n",
    "import matplotlib.pyplot as plt\n",
    "import pandas as pd\n",
    "# SK-learn libraries for learning.\n",
    "\n",
    "from sklearn.pipeline import Pipeline\n",
    "from sklearn.neighbors import KNeighborsClassifier\n",
    "from sklearn.linear_model import LogisticRegression\n",
    "from sklearn.naive_bayes import GaussianNB\n",
    "from sklearn.grid_search import GridSearchCV\n",
    "from sklearn.tree import DecisionTreeClassifier\n",
    "from sklearn.ensemble import RandomForestClassifier \n",
    "\n",
    "# SK-Learn Libraries for feature tuning\n",
    "from sklearn import preprocessing\n",
    "from sklearn.feature_selection import SelectKBest\n",
    "from sklearn.decomposition import KernelPCA\n",
    "\n",
    "# SK-learn libraries for evaluation.\n",
    "from sklearn.metrics import confusion_matrix\n",
    "from sklearn import metrics\n",
    "from sklearn.metrics import classification_report"
   ]
  },
  {
   "cell_type": "markdown",
   "metadata": {},
   "source": [
    "Load the training data. Note that kaggle has a separate file for test data which we will not load yet. Thus, we will split our training data into training and a dev set."
   ]
  },
  {
   "cell_type": "code",
   "execution_count": 2,
   "metadata": {
    "scrolled": false
   },
   "outputs": [
    {
     "name": "stdout",
     "output_type": "stream",
     "text": [
      "full data shape:  (15120, 51)\n",
      "full label shape: (15120,)\n",
      "\n",
      "train data shape:  (14120, 51)\n",
      "train label shape: (14120,)\n",
      "\n",
      "dev data shape:  (1000, 51)\n",
      "dev label shape: (1000,)\n",
      "\n",
      "Feature names are:\n",
      "['Elevation' 'Aspect' 'Slope' 'Horizontal_Distance_To_Hydrology'\n",
      " 'Vertical_Distance_To_Hydrology' 'Horizontal_Distance_To_Roadways'\n",
      " 'Hillshade_9am' 'Hillshade_Noon' 'Hillshade_3pm'\n",
      " 'Horizontal_Distance_To_Fire_Points' 'Wilderness_Area1' 'Wilderness_Area2'\n",
      " 'Wilderness_Area3' 'Wilderness_Area4' 'Soil_Type1' 'Soil_Type2'\n",
      " 'Soil_Type3' 'Soil_Type4' 'Soil_Type5' 'Soil_Type8' 'Soil_Type9'\n",
      " 'Soil_Type10' 'Soil_Type11' 'Soil_Type12' 'Soil_Type13' 'Soil_Type15'\n",
      " 'Soil_Type16' 'Soil_Type17' 'Soil_Type18' 'Soil_Type19' 'Soil_Type20'\n",
      " 'Soil_Type21' 'Soil_Type22' 'Soil_Type23' 'Soil_Type24' 'Soil_Type25'\n",
      " 'Soil_Type26' 'Soil_Type27' 'Soil_Type28' 'Soil_Type29' 'Soil_Type30'\n",
      " 'Soil_Type31' 'Soil_Type32' 'Soil_Type33' 'Soil_Type34' 'Soil_Type35'\n",
      " 'Soil_Type36' 'Soil_Type37' 'Soil_Type38' 'Soil_Type39' 'Soil_Type40']\n",
      "\n",
      "An example row of training data:\n",
      "[2801   60   27  335  122  361  229  172   59 1900    1    0    0    0    0\n",
      "    0    0    0    0    0    0    0    0    0    0    0    0    0    0    0\n",
      "    0    0    0    0    0    0    0    0    0    1    0    0    0    0    0\n",
      "    0    0    0    0    0    0]\n"
     ]
    }
   ],
   "source": [
    "# Load full training data set\n",
    "full_data = np.loadtxt(\"train.csv\", dtype = \"int\", delimiter = \",\", skiprows=1)\n",
    "feature_names = np.loadtxt(\"train.csv\", dtype = \"str\", delimiter = \",\")[0,:]\n",
    "\n",
    "# Split into data and labels\n",
    "full_data_labels = full_data[:,full_data.shape[1]-1]\n",
    "full_data = full_data[:,:full_data.shape[1]-1]\n",
    "full_data = np.delete(full_data, 0, 1)  # Delete id to prevent use as feature\n",
    "\n",
    "# features 20,21, and 28 have zero variance and can be removed for further analysis\n",
    "full_data = np.delete(full_data, 28, 1)\n",
    "full_data = np.delete(full_data, 21, 1)\n",
    "full_data = np.delete(full_data, 20, 1)\n",
    "feature_names = np.delete(feature_names,[28,21,20])\n",
    "\n",
    "print (\"full data shape: \", full_data.shape)\n",
    "print (\"full label shape:\", full_data_labels.shape)\n",
    "# Split into smaller training set and a dev set for us to use\n",
    "# Shuffle the input so that we get a random subset in training vs dev\n",
    "# Test set provided separately from kaggle where we do not know the labels\n",
    "np.random.seed(58230)\n",
    "shuffle = np.random.permutation(np.arange(full_data.shape[0]))\n",
    "full_data, full_data_labels = full_data[shuffle], full_data_labels[shuffle]\n",
    "\n",
    "train_data, train_labels = full_data[:14120], full_data_labels[:14120]\n",
    "dev_data, dev_labels = full_data[14120:], full_data_labels[14120:]\n",
    "\n",
    "print (\"\\ntrain data shape: \", train_data.shape)\n",
    "print (\"train label shape:\", train_labels.shape)\n",
    "print (\"\\ndev data shape: \", dev_data.shape)\n",
    "print (\"dev label shape:\", dev_labels.shape)\n",
    "\n",
    "\n",
    "# Print some basic info looking at a row of data\n",
    "print(\"\\nFeature names are:\")\n",
    "print(feature_names[1:-1])\n",
    "\n",
    "print(\"\\nAn example row of training data:\")\n",
    "print(train_data[0])"
   ]
  },
  {
   "cell_type": "code",
   "execution_count": 3,
   "metadata": {},
   "outputs": [
    {
     "name": "stderr",
     "output_type": "stream",
     "text": [
      "C:\\Users\\Storm\\Anaconda3\\lib\\site-packages\\sklearn\\utils\\validation.py:475: DataConversionWarning: Data with input dtype int32 was converted to float64 by StandardScaler.\n",
      "  warnings.warn(msg, DataConversionWarning)\n"
     ]
    }
   ],
   "source": [
    "scaler = preprocessing.StandardScaler()\n",
    "continuous = scaler.fit_transform(train_data[:, range(0, 10)])\n",
    "binary = train_data[:, range(10,51)]\n",
    "scaled_train_data = np.concatenate((continuous, binary), axis=1)\n",
    "\n",
    "con_dev = scaler.transform(dev_data[:, range(0, 10)])\n",
    "bin_dev = dev_data[:, range(10,51)]\n",
    "scaled_dev_data = np.concatenate((con_dev, bin_dev), axis=1)\n",
    "\n",
    "selection=SelectKBest(k=25)  # just checking univariate selection method first\n",
    "top_train=selection.fit_transform(scaled_train_data,train_labels)\n",
    "top_dev=selection.transform(scaled_dev_data)"
   ]
  },
  {
   "cell_type": "markdown",
   "metadata": {},
   "source": [
    "Run a basic logistic regression model."
   ]
  },
  {
   "cell_type": "code",
   "execution_count": 4,
   "metadata": {
    "scrolled": true
   },
   "outputs": [
    {
     "name": "stdout",
     "output_type": "stream",
     "text": [
      "Default logistic regression accuracy is 0.679\n",
      "Multinomial logistic regression accuracy is 0.721\n",
      "Optimal C:  3.0\n",
      "Logistic Regression score with tuned C value:  0.718\n"
     ]
    }
   ],
   "source": [
    "# Run logistic regression with default values and check accuracy\n",
    "model_log = LogisticRegression()\n",
    "model_log.fit(train_data, train_labels)\n",
    "\n",
    "print(\"Default logistic regression accuracy is %1.3f\" % (model_log.score(dev_data,dev_labels)))\n",
    "\n",
    "model_MN = LogisticRegression(class_weight='balanced',multi_class='multinomial',solver='saga',max_iter=250)\n",
    "model_MN.fit(scaled_train_data, train_labels)\n",
    "\n",
    "print(\"Multinomial logistic regression accuracy is %1.3f\" % (model_MN.score(scaled_dev_data,dev_labels)))\n",
    "\n",
    "\n",
    "reg_values = {'C': [ 1.0, 2.0, 3.0, 5.0, 10.0]}\n",
    "modelLR = GridSearchCV(LogisticRegression(class_weight='balanced',multi_class='multinomial',solver='saga',max_iter=300,tol=0.001), reg_values)\n",
    "modelLR.fit(scaled_train_data,train_labels)\n",
    "print('Optimal C: ',modelLR.best_params_['C'])\n",
    "print('Logistic Regression score with tuned C value: ',modelLR.best_estimator_.score(scaled_dev_data,dev_labels))\n"
   ]
  },
  {
   "cell_type": "code",
   "execution_count": 5,
   "metadata": {},
   "outputs": [
    {
     "name": "stderr",
     "output_type": "stream",
     "text": [
      "C:\\Users\\Storm\\Anaconda3\\lib\\site-packages\\sklearn\\feature_selection\\univariate_selection.py:113: UserWarning: Features [   0  518  519  520  521  522  523  524  525  526  528  529  531  532  534\n",
      "  538  542  543  544  545  548  549  550  551  553  559  560  561  562  563\n",
      "  564  565  566  567  568  569  570  572  573  574  575  578  583  584  585\n",
      "  587  591  593  594  599  600  604  605  606  609  614  621  625  626  644\n",
      "  647  648  652  653  654  655  656  657  658  659  660  661  662  663  664\n",
      "  665  666  667  668  669  670  671  672  673  674  676  677  678  679  680\n",
      "  681  682  683  684  685  686  687  688  689  690  691  692  693  694  695\n",
      "  696  697  698  699  700  701  702  703  704  705  706  707  708  709  710\n",
      "  711  713  714  715  716  717  718  719  720  721  722  723  724  725  726\n",
      "  727  728  729  730  731  732  733  734  735  736  737  738  739  740  741\n",
      "  742  743  744  745  746  747  749  750  751  752  753  754  755  756  757\n",
      "  758  759  760  761  762  763  764  765  766  767  768  769  770  771  772\n",
      "  773  774  775  776  777  778  779  780  781  782  784  785  786  787  788\n",
      "  789  790  791  792  793  794  795  796  797  798  799  800  801  802  803\n",
      "  804  805  806  807  808  809  810  811  812  813  814  815  816  818  819\n",
      "  820  821  822  823  824  825  826  827  828  829  830  831  832  833  834\n",
      "  835  836  837  838  839  840  841  842  843  844  845  846  847  848  849\n",
      "  851  852  853  854  855  856  857  858  859  860  861  862  863  864  865\n",
      "  866  867  868  869  870  871  872  873  874  875  876  877  878  879  880\n",
      "  881  883  884  885  886  887  888  889  890  891  892  893  894  895  896\n",
      "  897  898  899  900  901  902  903  904  905  906  907  908  909  910  911\n",
      "  912  914  915  916  917  918  919  920  921  922  923  924  925  926  927\n",
      "  928  929  930  931  932  933  934  935  936  937  938  939  940  941  942\n",
      "  944  945  946  947  948  949  950  951  952  953  954  955  956  957  958\n",
      "  959  960  961  962  963  964  965  966  967  968  969  970  971  973  974\n",
      "  975  976  977  978  979  980  981  982  983  984  985  986  987  988  989\n",
      "  990  991  992  993  994  995  996  997  998  999 1001 1002 1003 1004 1005\n",
      " 1006 1007 1008 1009 1010 1011 1012 1013 1014 1015 1016 1017 1018 1019 1020\n",
      " 1021 1022 1023 1024 1025 1026 1028 1029 1030 1031 1032 1033 1034 1035 1036\n",
      " 1037 1038 1039 1040 1041 1042 1043 1044 1045 1046 1047 1048 1049 1050 1051\n",
      " 1052 1054 1055 1056 1057 1058 1059 1060 1061 1062 1063 1064 1065 1066 1067\n",
      " 1068 1069 1070 1071 1072 1073 1074 1075 1076 1077 1079 1080 1081 1082 1083\n",
      " 1084 1085 1086 1087 1088 1089 1090 1091 1092 1093 1094 1095 1096 1097 1098\n",
      " 1099 1100 1101 1103 1104 1105 1106 1107 1108 1109 1110 1111 1112 1113 1114\n",
      " 1115 1116 1117 1118 1119 1120 1121 1122 1123 1124 1126 1127 1128 1129 1130\n",
      " 1131 1132 1133 1134 1135 1136 1137 1138 1139 1140 1141 1142 1143 1144 1145\n",
      " 1146 1148 1149 1150 1151 1152 1153 1154 1155 1156 1157 1158 1159 1160 1161\n",
      " 1162 1163 1164 1165 1166 1167 1169 1170 1171 1172 1173 1174 1175 1176 1177\n",
      " 1178 1179 1180 1181 1182 1183 1184 1185 1186 1187 1189 1190 1191 1192 1193\n",
      " 1194 1195 1196 1197 1198 1199 1200 1201 1202 1203 1204 1205 1206 1208 1209\n",
      " 1210 1211 1212 1213 1214 1215 1216 1217 1218 1219 1220 1221 1222 1223 1224\n",
      " 1226 1227 1228 1229 1230 1231 1232 1233 1234 1235 1236 1237 1238 1239 1240\n",
      " 1241 1243 1244 1245 1246 1247 1248 1249 1250 1251 1252 1253 1254 1255 1256\n",
      " 1257 1259 1260 1261 1262 1263 1264 1265 1266 1267 1268 1269 1270 1271 1272\n",
      " 1274 1275 1276 1277 1278 1279 1280 1281 1282 1283 1284 1285 1286 1288 1289\n",
      " 1290 1291 1292 1293 1294 1295 1296 1297 1298 1299 1301 1302 1303 1304 1305\n",
      " 1306 1307 1308 1309 1310 1311 1313 1314 1315 1316 1317 1318 1319 1320 1321\n",
      " 1322 1324 1325 1326 1327 1328 1329 1330 1331 1332 1334 1335 1336 1337 1338\n",
      " 1339 1340 1341 1343 1344 1345 1346 1347 1348 1349 1351 1352 1353 1354 1355\n",
      " 1356 1358 1359 1360 1361 1362 1364 1365 1366 1367 1369 1370 1371 1373 1374\n",
      " 1376] are constant.\n",
      "  UserWarning)\n",
      "C:\\Users\\Storm\\Anaconda3\\lib\\site-packages\\sklearn\\feature_selection\\univariate_selection.py:114: RuntimeWarning: invalid value encountered in true_divide\n",
      "  f = msb / msw\n"
     ]
    },
    {
     "name": "stdout",
     "output_type": "stream",
     "text": [
      "Logistic Regression score with top 100 features:  0.743\n"
     ]
    }
   ],
   "source": [
    "interactions = preprocessing.PolynomialFeatures(2)\n",
    "poly_train=interactions.fit_transform(scaled_train_data)\n",
    "poly_dev=interactions.transform(scaled_dev_data)\n",
    "selection=SelectKBest(k=100)  \n",
    "top_train=selection.fit_transform(poly_train,train_labels)\n",
    "top_dev=selection.transform(poly_dev)\n",
    "\n",
    "modelLR = LogisticRegression(penalty='l2',class_weight='balanced',multi_class='multinomial',solver='saga',max_iter=300,tol=0.001)\n",
    "modelLR.fit(top_train,train_labels)\n",
    "\n",
    "print('Logistic Regression score with top 100 features: ',modelLR.score(top_dev,dev_labels))"
   ]
  },
  {
   "cell_type": "code",
   "execution_count": 6,
   "metadata": {
    "scrolled": true
   },
   "outputs": [
    {
     "name": "stdout",
     "output_type": "stream",
     "text": [
      "Decision Tree accuracy: 0.801\n",
      "Random Forest accuracy: 0.875\n",
      "Feature ranking:\n",
      "1. feature 0 (0.252690)\n",
      "2. feature 5 (0.095526)\n",
      "3. feature 9 (0.073919)\n",
      "4. feature 3 (0.062194)\n",
      "5. feature 4 (0.052329)\n",
      "6. feature 6 (0.048846)\n",
      "7. feature 1 (0.047673)\n",
      "8. feature 13 (0.045329)\n",
      "9. feature 8 (0.043786)\n",
      "10. feature 7 (0.042370)\n",
      "11. feature 2 (0.032310)\n",
      "12. feature 21 (0.021250)\n",
      "13. feature 48 (0.019544)\n",
      "14. feature 16 (0.018313)\n",
      "15. feature 10 (0.017803)\n",
      "16. feature 49 (0.017314)\n",
      "17. feature 12 (0.015543)\n",
      "18. feature 17 (0.011998)\n",
      "19. feature 50 (0.009819)\n",
      "20. feature 40 (0.007272)\n",
      "21. feature 15 (0.005701)\n",
      "22. feature 27 (0.005081)\n",
      "23. feature 24 (0.004757)\n",
      "24. feature 32 (0.004710)\n",
      "25. feature 42 (0.004669)\n",
      "26. feature 33 (0.004410)\n",
      "27. feature 39 (0.004392)\n",
      "28. feature 23 (0.004188)\n",
      "29. feature 43 (0.003114)\n",
      "30. feature 11 (0.002934)\n",
      "31. feature 22 (0.002769)\n",
      "32. feature 19 (0.002555)\n",
      "33. feature 34 (0.002155)\n",
      "34. feature 45 (0.002132)\n",
      "35. feature 41 (0.002036)\n",
      "36. feature 14 (0.001572)\n",
      "37. feature 30 (0.001527)\n",
      "38. feature 18 (0.001085)\n",
      "39. feature 26 (0.000902)\n",
      "40. feature 28 (0.000837)\n",
      "41. feature 25 (0.000557)\n",
      "42. feature 47 (0.000506)\n",
      "43. feature 36 (0.000432)\n",
      "44. feature 29 (0.000310)\n",
      "45. feature 44 (0.000272)\n",
      "46. feature 37 (0.000162)\n",
      "47. feature 31 (0.000134)\n",
      "48. feature 38 (0.000100)\n",
      "49. feature 46 (0.000082)\n",
      "50. feature 20 (0.000076)\n",
      "51. feature 35 (0.000014)\n"
     ]
    }
   ],
   "source": [
    "dt_clf = DecisionTreeClassifier(criterion=\"entropy\", splitter=\"best\", random_state=0)\n",
    "dt_clf.fit(train_data, train_labels)\n",
    "\n",
    "print('Decision Tree accuracy:', dt_clf.score(dev_data, dev_labels))\n",
    "\n",
    "rf_clf= RandomForestClassifier(n_estimators=250,max_features=10)\n",
    "rf_clf.fit(train_data, train_labels)\n",
    "\n",
    "print ('Random Forest accuracy:', rf_clf.score(dev_data, dev_labels))\n",
    "\n",
    "importances = rf_clf.feature_importances_\n",
    "std = np.std([tree.feature_importances_ for tree in rf_clf.estimators_],\n",
    "             axis=0)\n",
    "indices = np.argsort(importances)[::-1]\n",
    "\n",
    "print(\"Feature ranking:\")\n",
    "\n",
    "for f in range(dev_data.shape[1]):\n",
    "    print(\"%d. feature %d (%f)\" % (f + 1, indices[f], importances[indices[f]]))"
   ]
  },
  {
   "cell_type": "code",
   "execution_count": 7,
   "metadata": {
    "scrolled": true
   },
   "outputs": [
    {
     "name": "stdout",
     "output_type": "stream",
     "text": [
      "0.744\n"
     ]
    }
   ],
   "source": [
    "imp_train = scaled_train_data[:, (0,5,9,3,4,6,1,13,8,7,2,21,48,16,49)] # most important features in random forest model\n",
    "imp_dev = scaled_dev_data[:, (0,5,9,3,4,6,1,13,8,7,2,21,48,16,49)]\n",
    "\n",
    "interactions = preprocessing.PolynomialFeatures(2)\n",
    "i_train_X=interactions.fit_transform(imp_train)\n",
    "i_dev_X=interactions.transform(imp_dev)\n",
    "\n",
    "modelLR_L1 = LogisticRegression(penalty='l1',class_weight='balanced',multi_class='multinomial',solver='saga',max_iter=300,tol=0.001,C=0.15)\n",
    "modelLR_L1.fit(i_train_X,train_labels)\n",
    "print(modelLR_L1.score(i_dev_X,dev_labels))"
   ]
  },
  {
   "cell_type": "code",
   "execution_count": 8,
   "metadata": {},
   "outputs": [],
   "source": [
    "#find which features have non zero weights\n",
    "data = pd.DataFrame(modelLR_L1.coef_, columns=interactions.get_feature_names())\n",
    "a = data.sum(axis=0)\n",
    "for i in range((data.shape[1]-1),0,-1):\n",
    "    if a[i] == 0:\n",
    "        L2_train_X = np.delete(i_train_X, i, 1)\n",
    "        L2_dev_X= np.delete(i_dev_X, i, 1)"
   ]
  },
  {
   "cell_type": "code",
   "execution_count": 9,
   "metadata": {},
   "outputs": [
    {
     "name": "stdout",
     "output_type": "stream",
     "text": [
      "0.738\n"
     ]
    }
   ],
   "source": [
    "modelLR_L2 = LogisticRegression(penalty='l2',class_weight='balanced',multi_class='multinomial',solver='saga',max_iter=400,tol=0.001,C=10.0)\n",
    "modelLR_L2.fit(L2_train_X,train_labels)\n",
    "print(modelLR_L2.score(L2_dev_X,dev_labels))"
   ]
  },
  {
   "cell_type": "code",
   "execution_count": 10,
   "metadata": {},
   "outputs": [
    {
     "data": {
      "text/plain": [
       "[<matplotlib.lines.Line2D at 0x202a519bba8>,\n",
       " <matplotlib.lines.Line2D at 0x202aa96da20>,\n",
       " <matplotlib.lines.Line2D at 0x202aa96f160>,\n",
       " <matplotlib.lines.Line2D at 0x202aa96f7b8>,\n",
       " <matplotlib.lines.Line2D at 0x202aa96fe10>,\n",
       " <matplotlib.lines.Line2D at 0x202aa970518>,\n",
       " <matplotlib.lines.Line2D at 0x202aa970b00>]"
      ]
     },
     "execution_count": 10,
     "metadata": {},
     "output_type": "execute_result"
    },
    {
     "data": {
      "image/png": "[encoded data removed]",
      "text/plain": [
       "<matplotlib.figure.Figure at 0x202a5d987f0>"
      ]
     },
     "metadata": {},
     "output_type": "display_data"
    }
   ],
   "source": [
    "pca = KernelPCA(n_components=2,kernel=\"poly\")\n",
    "train_data_sm = pca.fit_transform(scaled_train_data)\n",
    "full = pd.concat([pd.DataFrame(train_data_sm,columns=['c1', 'c2']),pd.DataFrame(train_labels,columns=['Tree'])]\n",
    "                 , axis=1, ignore_index=False, levels=None, names=None) \n",
    "spruce = full[full.Tree == 1]\n",
    "L_pine = full[full.Tree == 2]\n",
    "P_pine = full[full.Tree == 3]\n",
    "Willow = full[full.Tree == 4]\n",
    "Aspen = full[full.Tree == 5]\n",
    "fir = full[full.Tree == 6]\n",
    "Krummholz = full[full.Tree == 7]\n",
    "\n",
    "plt.plot(spruce.c1, spruce.c2, 'bs', fir.c1, fir.c2, 'r^',\n",
    "         L_pine.c1, L_pine.c2, 'cp', P_pine.c1, P_pine.c2, 'b^',\n",
    "         Aspen.c1, Aspen.c2, 'g--', Krummholz.c1, Krummholz.c2, 'y^',\n",
    "        Willow.c1, Willow.c2, 'g--')"
   ]
  },
  {
   "cell_type": "markdown",
   "metadata": {},
   "source": []
  }
 ],
 "metadata": {
  "kernelspec": {
   "display_name": "Python 3",
   "language": "python",
   "name": "python3"
  },
  "language_info": {
   "codemirror_mode": {
    "name": "ipython",
    "version": 3
   },
   "file_extension": ".py",
   "mimetype": "text/x-python",
   "name": "python",
   "nbconvert_exporter": "python",
   "pygments_lexer": "ipython3",
   "version": "3.6.1"
  }
 },
 "nbformat": 4,
 "nbformat_minor": 1
}
