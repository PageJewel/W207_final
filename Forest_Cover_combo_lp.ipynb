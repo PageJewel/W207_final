{
 "cells": [
  {
   "cell_type": "markdown",
   "metadata": {},
   "source": [
    "# Forest Cover Type: Baseline Classification"
   ]
  },
  {
   "cell_type": "markdown",
   "metadata": {},
   "source": [
    "For this project, we are working on predicting the forest cover type among 7 classifications based on cartographic variables from the US Geological Survey and USFS for each 30 x 30 meter cell of forest.\n",
    "\n",
    "For more details, please see: https://www.kaggle.com/c/forest-cover-type-prediction"
   ]
  },
  {
   "cell_type": "code",
   "execution_count": 5,
   "metadata": {
    "collapsed": true
   },
   "outputs": [],
   "source": [
    "# This tells matplotlib not to try opening a new window for each plot.\n",
    "%matplotlib inline\n",
    "\n",
    "# General libraries.\n",
    "import numpy as np\n",
    "import matplotlib.pyplot as plt\n",
    "import pandas as pd\n",
    "# SK-learn libraries for learning.\n",
    "\n",
    "from sklearn.pipeline import Pipeline\n",
    "from sklearn.neighbors import KNeighborsClassifier\n",
    "from sklearn.linear_model import LogisticRegression\n",
    "from sklearn.naive_bayes import GaussianNB\n",
    "from sklearn.grid_search import GridSearchCV\n",
    "from sklearn.tree import DecisionTreeClassifier\n",
    "from sklearn.ensemble import RandomForestClassifier \n",
    "from sklearn.ensemble import VotingClassifier\n",
    "from sklearn.ensemble import AdaBoostClassifier\n",
    "from sklearn.ensemble import GradientBoostingClassifier\n",
    "from sklearn.ensemble import ExtraTreesClassifier\n",
    "# SK-Learn Libraries for feature tuning\n",
    "from sklearn import preprocessing\n",
    "from sklearn.feature_selection import SelectKBest\n",
    "from sklearn.decomposition import KernelPCA\n",
    "\n",
    "# SK-learn libraries for evaluation.\n",
    "from sklearn.metrics import confusion_matrix\n",
    "from sklearn import metrics\n",
    "from sklearn.metrics import classification_report"
   ]
  },
  {
   "cell_type": "markdown",
   "metadata": {},
   "source": [
    "Load the training data. Note that kaggle has a separate file for test data which we will not load yet. "
   ]
  },
  {
   "cell_type": "code",
   "execution_count": 484,
   "metadata": {
    "scrolled": false
   },
   "outputs": [
    {
     "name": "stdout",
     "output_type": "stream",
     "text": [
      "full data shape:  (15120, 51)\n",
      "full label shape: (15120,)\n",
      "\n",
      "Feature names are:\n",
      "['Elevation' 'Aspect' 'Slope' 'Horizontal_Distance_To_Hydrology'\n",
      " 'Vertical_Distance_To_Hydrology' 'Horizontal_Distance_To_Roadways'\n",
      " 'Hillshade_9am' 'Hillshade_Noon' 'Hillshade_3pm'\n",
      " 'Horizontal_Distance_To_Fire_Points' 'Wilderness_Area1' 'Wilderness_Area2'\n",
      " 'Wilderness_Area3' 'Wilderness_Area4' 'Soil_Type1' 'Soil_Type2'\n",
      " 'Soil_Type3' 'Soil_Type4' 'Soil_Type5' 'Soil_Type8' 'Soil_Type9'\n",
      " 'Soil_Type10' 'Soil_Type11' 'Soil_Type12' 'Soil_Type13' 'Soil_Type15'\n",
      " 'Soil_Type16' 'Soil_Type17' 'Soil_Type18' 'Soil_Type19' 'Soil_Type20'\n",
      " 'Soil_Type21' 'Soil_Type22' 'Soil_Type23' 'Soil_Type24' 'Soil_Type25'\n",
      " 'Soil_Type26' 'Soil_Type27' 'Soil_Type28' 'Soil_Type29' 'Soil_Type30'\n",
      " 'Soil_Type31' 'Soil_Type32' 'Soil_Type33' 'Soil_Type34' 'Soil_Type35'\n",
      " 'Soil_Type36' 'Soil_Type37' 'Soil_Type38' 'Soil_Type39' 'Soil_Type40']\n",
      "\n",
      "An example row of training data:\n",
      "[2075   27   30   30   15  404  193  162   89  330    0    0    0    1    1\n",
      "    0    0    0    0    0    0    0    0    0    0    0    0    0    0    0\n",
      "    0    0    0    0    0    0    0    0    0    0    0    0    0    0    0\n",
      "    0    0    0    0    0    0]\n"
     ]
    }
   ],
   "source": [
    "# Load full training data set\n",
    "full_data = np.loadtxt(\"train.csv\", dtype = \"int\", delimiter = \",\", skiprows=1)\n",
    "feature_names = np.loadtxt(\"train.csv\", dtype = \"str\", delimiter = \",\")[0,:]\n",
    "\n",
    "# Split into data and labels\n",
    "full_data_labels = full_data[:,full_data.shape[1]-1]\n",
    "full_data = full_data[:,:full_data.shape[1]-1]\n",
    "\n",
    "# Delete id to prevent use as feature\n",
    "full_data = np.delete(full_data, 0, 1)  \n",
    "\n",
    "# features 20,21, and 28 have zero variance \n",
    "#and can be removed for further analysis\n",
    "full_data = np.delete(full_data, 28, 1)\n",
    "full_data = np.delete(full_data, 21, 1)\n",
    "full_data = np.delete(full_data, 20, 1)\n",
    "feature_names = np.delete(feature_names,[28,21,20])\n",
    "\n",
    "# Shuffle the input so that we get a random subset in training vs dev\n",
    "#np.random.seed(32)\n",
    "np.random.seed(58230)\n",
    "shuffle = np.random.permutation(np.arange(full_data.shape[0]))\n",
    "full_data, full_data_labels = full_data[shuffle], full_data_labels[shuffle]\n",
    "\n",
    "print (\"full data shape: \", full_data.shape)\n",
    "print (\"full label shape:\", full_data_labels.shape)\n",
    "\n",
    "# Print some basic info looking at a row of data\n",
    "print(\"\\nFeature names are:\")\n",
    "print(feature_names[1:-1])\n",
    "\n",
    "print(\"\\nAn example row of training data:\")\n",
    "print(full_data[0])"
   ]
  },
  {
   "cell_type": "markdown",
   "metadata": {},
   "source": [
    "### Feature Selection\n",
    "\n",
    "It appears some of the features may be iterrelated such that creating additional features may be of interest. For instance, there are three hillshade features that measure the area sunlight, each at a different time of day. It may be that a more important feature in determining cover type is whether it can be described to be in sun or shade the entire day. "
   ]
  },
  {
   "cell_type": "code",
   "execution_count": 485,
   "metadata": {
    "scrolled": true
   },
   "outputs": [
    {
     "name": "stdout",
     "output_type": "stream",
     "text": [
      "0    12396\n",
      "1     2724\n",
      "Name: Part_shade, dtype: int64\n",
      "0    12737\n",
      "1     2383\n",
      "Name: Part_sun, dtype: int64\n",
      "0    12928\n",
      "1     2192\n",
      "Name: Strong_shade, dtype: int64\n",
      "0    13020\n",
      "1     2100\n",
      "Name: Strong_sun, dtype: int64\n"
     ]
    }
   ],
   "source": [
    "basic_data = pd.DataFrame(data=full_data,columns=feature_names[1:-1])\n",
    "\n",
    "# Add Hillshade variables to datav1\n",
    "datav1 = basic_data.copy()\n",
    "temp = basic_data.loc[:, [\"Hillshade_9am\", \"Hillshade_Noon\", \"Hillshade_3pm\"]]\n",
    "datav1['Strong_shade'] = (temp < 215).sum(axis=1) \n",
    "datav1['Strong_sun'] = (temp > 170).sum(axis=1)\n",
    "datav1['Part_shade'] = (temp < 190).sum(axis=1) \n",
    "datav1['Part_sun'] = (temp > 225).sum(axis=1)\n",
    "datav1.Strong_shade.replace([0,1,2,3], [0,0,0,1], inplace=True)\n",
    "datav1.Strong_sun.replace([0,1,2,3], [0,0,0,1], inplace=True)\n",
    "datav1.Part_shade.replace([0,1,2,3], [0,0,1,1], inplace=True)\n",
    "datav1.Part_sun.replace([0,1,2,3], [0,0,1,1], inplace=True)\n",
    "\n",
    "datav2 = datav1.copy()\n",
    "datav2.insert(1,'Min_Hydro',pd.np.minimum(np.absolute(datav2.Horizontal_Distance_To_Hydrology), np.absolute(datav2.Vertical_Distance_To_Hydrology)))\n",
    "datav2.insert(1,'Combined_Hydro',(datav2.Horizontal_Distance_To_Hydrology.abs()+ datav2.Vertical_Distance_To_Hydrology.abs()))\n",
    "datav2.drop(['Horizontal_Distance_To_Hydrology', 'Vertical_Distance_To_Hydrology'], axis=1,inplace=True)\n",
    "print(datav1.Part_shade.value_counts())\n",
    "print(datav1.Part_sun.value_counts())\n",
    "print(datav1.Strong_shade.value_counts())\n",
    "print(datav1.Strong_sun.value_counts())\n",
    "#print(datav2.shape)"
   ]
  },
  {
   "cell_type": "markdown",
   "metadata": {},
   "source": [
    "### Create different datasets"
   ]
  },
  {
   "cell_type": "code",
   "execution_count": 486,
   "metadata": {
    "collapsed": true
   },
   "outputs": [],
   "source": [
    "# Split into smaller training set and a dev set for us to use\n",
    "\n",
    "train_data, train_labels = full_data[:14120], full_data_labels[:14120]\n",
    "dev_data, dev_labels = full_data[14120:], full_data_labels[14120:]\n",
    "\n",
    "train_v1_data = datav1.values[:14120]\n",
    "dev_v1_data = datav1.values[14120:]\n",
    "\n",
    "train_v2_data = datav2.values[:14120]\n",
    "dev_v2_data = datav2.values[14120:]"
   ]
  },
  {
   "cell_type": "code",
   "execution_count": 487,
   "metadata": {
    "scrolled": true
   },
   "outputs": [
    {
     "name": "stderr",
     "output_type": "stream",
     "text": [
      "C:\\Users\\Storm\\Anaconda3\\lib\\site-packages\\sklearn\\utils\\validation.py:475: DataConversionWarning: Data with input dtype int32 was converted to float64 by StandardScaler.\n",
      "  warnings.warn(msg, DataConversionWarning)\n",
      "C:\\Users\\Storm\\Anaconda3\\lib\\site-packages\\sklearn\\utils\\validation.py:475: DataConversionWarning: Data with input dtype int64 was converted to float64 by StandardScaler.\n",
      "  warnings.warn(msg, DataConversionWarning)\n"
     ]
    }
   ],
   "source": [
    "scaler = preprocessing.StandardScaler()\n",
    "continuous = scaler.fit_transform(train_data[:, range(0, 10)])\n",
    "con_dev = scaler.transform(dev_data[:, range(0, 10)])\n",
    "binary = train_data[:, range(10,51)]\n",
    "bin_dev = dev_data[:, range(10,51)]\n",
    "scaled_train_data = np.concatenate((continuous, binary), axis=1)\n",
    "scaled_dev_data = np.concatenate((con_dev, bin_dev), axis=1)\n",
    "\n",
    "binary_v1 = train_v1_data[:, range(10,55)]\n",
    "bin_v1_dev = dev_v1_data[:, range(10,55)]\n",
    "scaled_train_v1_data = np.concatenate((continuous, binary_v1), axis=1)\n",
    "scaled_dev_v1_data = np.concatenate((con_dev, bin_v1_dev), axis=1)\n",
    "\n",
    "scaler2 = preprocessing.StandardScaler()\n",
    "continuous_v2 = scaler2.fit_transform(train_v2_data[:, range(0, 10)])\n",
    "con_v2_dev = scaler2.transform(dev_v2_data[:, range(0, 10)])\n",
    "scaled_train_v2_data = np.concatenate((continuous_v2, binary_v1), axis=1)\n",
    "scaled_dev_v2_data = np.concatenate((con_v2_dev, bin_v1_dev), axis=1)\n"
   ]
  },
  {
   "cell_type": "code",
   "execution_count": 488,
   "metadata": {
    "collapsed": true
   },
   "outputs": [],
   "source": [
    "interactions = preprocessing.PolynomialFeatures(interaction_only=True, include_bias=False)\n",
    "i_train_data=interactions.fit_transform(scaled_train_data)\n",
    "i_dev_data=interactions.transform(scaled_dev_data)\n",
    "\n",
    "interactions1 = preprocessing.PolynomialFeatures(interaction_only=True, include_bias=False)\n",
    "i_train_data_v1=interactions1.fit_transform(scaled_train_v1_data)\n",
    "i_dev_data_v1=interactions1.transform(scaled_dev_v1_data)\n",
    "\n",
    "interactions2 = preprocessing.PolynomialFeatures(interaction_only=True, include_bias=False)\n",
    "i_train_data_v2=interactions2.fit_transform(scaled_train_v2_data)\n",
    "i_dev_data_v2=interactions2.transform(scaled_dev_v2_data)\n",
    "\n",
    "poly = preprocessing.PolynomialFeatures(2)\n",
    "poly_train_data=poly.fit_transform(scaled_train_data)\n",
    "poly_dev_data=poly.transform(scaled_dev_data)\n",
    "\n",
    "poly1 = preprocessing.PolynomialFeatures(2)\n",
    "poly_train_data_v1=poly1.fit_transform(scaled_train_v1_data)\n",
    "poly_dev_data_v1=poly1.transform(scaled_dev_v1_data)\n",
    "\n",
    "poly2 = preprocessing.PolynomialFeatures(2)\n",
    "poly_train_data_v2=poly2.fit_transform(scaled_train_v2_data)\n",
    "poly_dev_data_v2=poly2.transform(scaled_dev_v2_data)"
   ]
  },
  {
   "cell_type": "code",
   "execution_count": 476,
   "metadata": {
    "collapsed": true
   },
   "outputs": [],
   "source": [
    "def custom_scoring(true,pred):\n",
    "    tp = 0\n",
    "    fp = 0\n",
    "    fn = 0\n",
    "    for i in range(len(pred)):\n",
    "        if (true[i] == target_of_interest and pred[i]==target_of_interest):\n",
    "            tp +=1\n",
    "        elif (pred[i] == target_of_interest and true[i]!=target_of_interest):\n",
    "            fp += 1\n",
    "        elif (true[i] == target_of_interest and pred[i]!=target_of_interest):\n",
    "            fn +=1\n",
    "    if tp > 0:\n",
    "        precision = tp / (tp + fp)\n",
    "        recall = tp / (tp + fn)\n",
    "        F1 = 2 * (precision * recall) / (precision + recall) \n",
    "    else: \n",
    "        F1 = 0\n",
    "    return F1"
   ]
  },
  {
   "cell_type": "code",
   "execution_count": 214,
   "metadata": {
    "collapsed": true
   },
   "outputs": [],
   "source": [
    "def onefeaturebestforest(X,Y,featureset):\n",
    "    global target_of_interest\n",
    "    target_of_interest = featureset[0]\n",
    "    label_scorer = metrics.make_scorer(custom_scoring, greater_is_better=True)\n",
    "    df = pd.concat([pd.DataFrame(X),pd.DataFrame(Y,columns=['target'])],axis=1)\n",
    "    dfsub = df.copy()\n",
    "    dfsub = dfsub.loc[dfsub['target'].isin(featureset)]\n",
    "    lab = dfsub['target']\n",
    "    dfsub.drop(['target'], axis=1,inplace=True)\n",
    "    params = {'n_estimators': [300],'max_features':[10,12,15,25,35,'auto']}\n",
    "    rf_clf = GridSearchCV(RandomForestClassifier()\n",
    "                          ,param_grid=params,scoring=label_scorer)\n",
    "    rf_clf.fit(dfsub,lab.values)\n",
    "    print(rf_clf.best_params_)\n",
    "    print(rf_clf.best_score_)\n",
    "    importances = rf_clf.best_estimator_.feature_importances_   \n",
    "    indices = np.argsort(importances)[::-1]\n",
    "    print(indices)\n",
    "    return [importances,indices]"
   ]
  },
  {
   "cell_type": "markdown",
   "metadata": {},
   "source": [
    "The following uses onefeaturebestforest to find the most important features that improve category 1 (first value input in set) f1 score when evaluating only data from categories 1,2, and 7"
   ]
  },
  {
   "cell_type": "code",
   "execution_count": 477,
   "metadata": {},
   "outputs": [
    {
     "name": "stdout",
     "output_type": "stream",
     "text": [
      "{'class_weight': 'balanced', 'max_features': 'auto', 'n_estimators': 300}\n",
      "0.7503194914520902\n",
      "[  1  56  68 ..., 990 991   0]\n"
     ]
    }
   ],
   "source": [
    "c1_c2_c7_ofbf_pv1_bt=onefeaturebestforest_bt(poly_train_data_v1,train_labels,(1,2,7)) "
   ]
  },
  {
   "cell_type": "code",
   "execution_count": 490,
   "metadata": {
    "collapsed": true
   },
   "outputs": [],
   "source": [
    "def num_check_v1(importances,tlabel):\n",
    "    # This function takes output from onebestforest as importances and a target, tlabel\n",
    "    # Return the number of features that maximize knn f1 score for tlabel\n",
    "    scores = []\n",
    "    #num_features = [5,10,15,20,25,30,35,40,45,50,55,60,70,80,100,160]\n",
    "    num_features = list(range(8,50))\n",
    "    for i in num_features:\n",
    "        train_data = poly_train_data_v1[:, (importances[1][:i])] \n",
    "        dev_data = poly_dev_data_v1[:, (importances[1][:i])]\n",
    "        knn_model = KNeighborsClassifier(n_neighbors=1,metric='braycurtis')\n",
    "        knn_model.fit(train_data,train_labels)\n",
    "        y_pred = knn_model.predict(dev_data)\n",
    "        knn_score = metrics.f1_score(dev_labels, y_pred, average=None)\n",
    "        scores.append(knn_score[tlabel-1])\n",
    "    max_value = max(scores)\n",
    "    nf = num_features[scores.index(max_value)]\n",
    "    return [max_value,nf]"
   ]
  },
  {
   "cell_type": "code",
   "execution_count": 492,
   "metadata": {
    "scrolled": true
   },
   "outputs": [
    {
     "name": "stdout",
     "output_type": "stream",
     "text": [
      "[0.80000000000000004, 32]\n"
     ]
    }
   ],
   "source": [
    "print(num_check_v1(c1_c2_c7_ofbf_pv1_bt,1))"
   ]
  },
  {
   "cell_type": "code",
   "execution_count": 493,
   "metadata": {
    "collapsed": true
   },
   "outputs": [],
   "source": [
    "def k_ens_fit(parameters):\n",
    "    for i in range(len(parameters)):\n",
    "        impsR,nfeaturesR,impsP,nfeaturesP = parameters[i]\n",
    "        train_dataR = poly_train_data_v1[:, (impsR[1][:nfeaturesR])] \n",
    "        dev_dataR = poly_dev_data_v1[:, (impsR[1][:nfeaturesR])]\n",
    "        train_dataP = poly_train_data_v1[:, (impsP[1][:nfeaturesP])] \n",
    "        dev_dataP = poly_dev_data_v1[:, (impsP[1][:nfeaturesP])]\n",
    "        \n",
    "        knn_modelR = KNeighborsClassifier(n_neighbors=1,metric='braycurtis')\n",
    "        knn_modelR.fit(train_dataR,train_labels)\n",
    "        y_predR = knn_modelR.predict(dev_dataR)\n",
    "        \n",
    "        knn_modelP = KNeighborsClassifier(n_neighbors=1,metric='braycurtis')\n",
    "        knn_modelP.fit(train_dataP,train_labels)\n",
    "        y_predP = knn_modelP.predict(dev_dataP)\n",
    "        if i==0:\n",
    "            finalsR=y_predR.copy()\n",
    "            finalsP=y_predP.copy()\n",
    "        else:\n",
    "            finalsR = np.vstack((finalsR,y_predR))\n",
    "            finalsP = np.vstack((finalsP,y_predR))\n",
    "    dfR=pd.DataFrame(finalsR.T,columns=['one', 'two', 'three','four', 'five', 'six','seven'])\n",
    "    # Only interested if model predicts target it was designed for, zero other predictions out\n",
    "    dfR[dfR[['one']]!=1] = 0\n",
    "    dfR[dfR[['two']]!=2] = 0\n",
    "    dfR[dfR[['three']]!=3] = 0\n",
    "    dfR[dfR[['four']]!=4] = 0\n",
    "    dfR[dfR[['five']]!=5] = 0\n",
    "    dfR[dfR[['six']]!=6] = 0\n",
    "    dfR[dfR[['seven']]!=7] = 0\n",
    "    dfP=pd.DataFrame(finalsP.T,columns=['one', 'two', 'three','four', 'five', 'six','seven'])\n",
    "    dfP[dfP[['one']]!=1] = 0\n",
    "    dfP[dfP[['two']]!=2] = 0\n",
    "    dfP[dfP[['three']]!=3] = 0\n",
    "    dfP[dfP[['four']]!=4] = 0\n",
    "    dfP[dfP[['five']]!=5] = 0\n",
    "    dfP[dfP[['six']]!=6] = 0\n",
    "    dfP[dfP[['seven']]!=7] = 0\n",
    "    df = pd.concat([dfR,dfP,dfR,dfP],1) \n",
    "    df.replace(0, np.nan,inplace=True)\n",
    "\n",
    "    # Random forest to fill predictions not made\n",
    "    rf_model = RandomForestClassifier(n_estimators=400,max_features=25,random_state=13)\n",
    "    rf_model.fit(train_data,train_labels)\n",
    "\n",
    "    df['rclf'] = rf_model.predict(dev_data)  \n",
    "    dev_pred = df.mode(axis=1)\n",
    "    dev_pred = dev_pred[dev_pred.columns[0]]\n",
    "    f = dev_pred.astype('int64')\n",
    "    return f"
   ]
  },
  {
   "cell_type": "code",
   "execution_count": 494,
   "metadata": {},
   "outputs": [],
   "source": [
    "en_imps = [(c1_c2_c7_ofbf_pv1_bt,35,c1_c2_c7_ofbf_pv1_bt,28), \n",
    "           (c2_c1_c3_c5_ofbf_pv1_bt,24,c2_c1_c5_c7_ofbf_pv1_bt,19), #\n",
    "           (c3_c2_c6_ofbf_pv1_bt,18,c3_c6_ofbf_pv1_bt,15),  #\n",
    "           (c4_c3_c6_ofbf_pv1_bt,36,c4_c3_ofbf_pv1_bt,40),\n",
    "           (c5_c2_c6_ofbf_pv1_bt,38,c5_c3_c6_ofbf_pv1_bt,32),\n",
    "           (c6_c3_ofbf_pv1_bt,18,c6_c2_c3_ofbf_pv1_bt,45),\n",
    "          (c7_c1_ofbf_pv1_bt,41,c7_c1_ofbf_pv1_bt,13)]\n",
    "\n",
    "k_ens = k_ens_fit(en_imps)"
   ]
  },
  {
   "cell_type": "code",
   "execution_count": 495,
   "metadata": {
    "scrolled": true
   },
   "outputs": [
    {
     "name": "stdout",
     "output_type": "stream",
     "text": [
      "Accuracy:  0.896\n",
      "F1 Score:  0.893988837834\n",
      "Confusion Matrix: \n",
      " [[ 98  16   0   0   1   0   6]\n",
      " [ 29 109   1   0  12   2   0]\n",
      " [  0   1 129   5   1  13   0]\n",
      " [  0   0   1 142   0   1   0]\n",
      " [  0   1   1   0 127   0   0]\n",
      " [  0   0   8   5   0 133   0]\n",
      " [  0   0   0   0   0   0 158]]\n",
      "Classification Report: \n",
      "              precision    recall  f1-score   support\n",
      "\n",
      "          1       0.77      0.81      0.79       121\n",
      "          2       0.86      0.71      0.78       153\n",
      "          3       0.92      0.87      0.89       149\n",
      "          4       0.93      0.99      0.96       144\n",
      "          5       0.90      0.98      0.94       129\n",
      "          6       0.89      0.91      0.90       146\n",
      "          7       0.96      1.00      0.98       158\n",
      "\n",
      "avg / total       0.90      0.90      0.89      1000\n",
      "\n"
     ]
    }
   ],
   "source": [
    "accuracy = metrics.accuracy_score(dev_labels,k_ens)\n",
    "f1score = metrics.f1_score(dev_labels,k_ens,average='weighted')\n",
    "confusion = confusion_matrix(dev_labels,k_ens) \n",
    "report = classification_report(dev_labels,k_ens)\n",
    "\n",
    "print('Accuracy: ', accuracy)\n",
    "print('F1 Score: ', f1score)\n",
    "print('Confusion Matrix: \\n', confusion)\n",
    "print('Classification Report: \\n',report)"
   ]
  },
  {
   "cell_type": "code",
   "execution_count": 496,
   "metadata": {
    "collapsed": true
   },
   "outputs": [],
   "source": [
    "def assess_model(model,train_data,train_labels,dev_data):\n",
    "    model = model\n",
    "    model.fit(train_data,train_labels)\n",
    "    dev_preds = model.predict(dev_data)\n",
    "    \n",
    "    accuracy = metrics.accuracy_score(dev_labels,dev_preds)\n",
    "    f1score = metrics.f1_score(dev_labels,dev_preds,average='weighted')\n",
    "    confusion = confusion_matrix(dev_labels,dev_preds) \n",
    "    report = classification_report(dev_labels,dev_preds)\n",
    "    \n",
    "    print('Accuracy: ', accuracy)\n",
    "    print('F1 Score: ', f1score)\n",
    "    print('Confusion Matrix: \\n', confusion)\n",
    "    print('Classification Report: \\n',report)\n",
    "    \n",
    "    return [accuracy,f1score,confusion,report]"
   ]
  },
  {
   "cell_type": "code",
   "execution_count": 417,
   "metadata": {},
   "outputs": [
    {
     "name": "stdout",
     "output_type": "stream",
     "text": [
      "{'class_weight': 'balanced', 'max_features': 'auto', 'n_estimators': 300}\n",
      "0.8082112391336336\n",
      "[  1  56  57 ..., 993 994   0]\n"
     ]
    }
   ],
   "source": [
    "c1_c2_c5_ofbf_pv1_bt=onefeaturebestforest_bt(poly_train_data_v1,train_labels,(1,2,5))"
   ]
  },
  {
   "cell_type": "code",
   "execution_count": 441,
   "metadata": {},
   "outputs": [
    {
     "name": "stdout",
     "output_type": "stream",
     "text": [
      "{'class_weight': 'balanced', 'max_features': 25, 'n_estimators': 300}\n",
      "0.7238689312774123\n",
      "[  1  56  68 ..., 996 997   0]\n"
     ]
    }
   ],
   "source": [
    "c2_c1_c3_c5_ofbf_pv1_bt=onefeaturebestforest_bt(poly_train_data_v1,train_labels,(2,1,5,3))"
   ]
  },
  {
   "cell_type": "code",
   "execution_count": 287,
   "metadata": {},
   "outputs": [
    {
     "name": "stdout",
     "output_type": "stream",
     "text": [
      "{'class_weight': 'balanced', 'max_features': 35, 'n_estimators': 300}\n",
      "0.74446713938201\n",
      "[  1  56  68 ..., 990 991   0]\n"
     ]
    }
   ],
   "source": [
    "c2_c1_c5_c7_ofbf_pv1_bt=onefeaturebestforest_bt(poly_train_data_v1,train_labels,(2,1,5,7))"
   ]
  },
  {
   "cell_type": "code",
   "execution_count": 298,
   "metadata": {},
   "outputs": [
    {
     "name": "stdout",
     "output_type": "stream",
     "text": [
      "{'class_weight': 'balanced', 'max_features': 35, 'n_estimators': 300}\n",
      "0.9423122285844986\n",
      "[   1   59   60 ..., 1046 1047    0]\n"
     ]
    }
   ],
   "source": [
    "c4_c3_c6_ofbf_pv1_bt=onefeaturebestforest_bt(poly_train_data_v1,train_labels,(4,3,6))"
   ]
  },
  {
   "cell_type": "code",
   "execution_count": 307,
   "metadata": {},
   "outputs": [
    {
     "name": "stdout",
     "output_type": "stream",
     "text": [
      "{'class_weight': 'balanced', 'max_features': 'auto', 'n_estimators': 300}\n",
      "0.9437161236887138\n",
      "[  56    1   68 ..., 1012 1013    0]\n"
     ]
    }
   ],
   "source": [
    "c7_c1_ofbf_pv1_bt=onefeaturebestforest_bt(poly_train_data_v1,train_labels,(7,1))"
   ]
  },
  {
   "cell_type": "code",
   "execution_count": 308,
   "metadata": {},
   "outputs": [
    {
     "name": "stdout",
     "output_type": "stream",
     "text": [
      "{'class_weight': 'balanced', 'max_features': 35, 'n_estimators': 300}\n",
      "0.9287688884150057\n",
      "[   1   56   61 ..., 1014 1015    0]\n"
     ]
    }
   ],
   "source": [
    "c5_c2_ofbf_pv1_bt=onefeaturebestforest_bt(poly_train_data_v1,train_labels,(5,2))"
   ]
  },
  {
   "cell_type": "code",
   "execution_count": 425,
   "metadata": {},
   "outputs": [
    {
     "name": "stdout",
     "output_type": "stream",
     "text": [
      "{'class_weight': 'balanced', 'max_features': 35, 'n_estimators': 300}\n",
      "0.921005331597835\n",
      "[   1   56   68 ..., 1014 1015    0]\n"
     ]
    }
   ],
   "source": [
    "c5_c3_c6_ofbf_pv1_bt=onefeaturebestforest_bt(poly_train_data_v1,train_labels,(5,2,3))"
   ]
  },
  {
   "cell_type": "code",
   "execution_count": 356,
   "metadata": {},
   "outputs": [
    {
     "name": "stdout",
     "output_type": "stream",
     "text": [
      "{'class_weight': 'balanced', 'max_features': 35, 'n_estimators': 300}\n",
      "0.9215868272848537\n",
      "[   1   56   68 ..., 1008 1009    0]\n"
     ]
    }
   ],
   "source": [
    "c5_c2_c6_ofbf_pv1_bt=onefeaturebestforest_bt(poly_train_data_v1,train_labels,(5,2,6))"
   ]
  },
  {
   "cell_type": "code",
   "execution_count": 357,
   "metadata": {},
   "outputs": [
    {
     "name": "stdout",
     "output_type": "stream",
     "text": [
      "{'class_weight': 'balanced', 'max_features': 'auto', 'n_estimators': 300}\n",
      "0.9210841570550924\n",
      "[ 56   1  57 ..., 993 994   0]\n"
     ]
    }
   ],
   "source": [
    "c5_c2_c1_ofbf_pv1_bt=onefeaturebestforest_bt(poly_train_data_v1,train_labels,(5,2,1))"
   ]
  },
  {
   "cell_type": "code",
   "execution_count": 280,
   "metadata": {},
   "outputs": [
    {
     "name": "stdout",
     "output_type": "stream",
     "text": [
      "{'class_weight': 'balanced', 'max_features': 25, 'n_estimators': 300}\n",
      "0.8544468559960993\n",
      "[ 111  325    6 ..., 1046 1047    0]\n"
     ]
    }
   ],
   "source": [
    "c3_c6_ofbf_pv1_bt=onefeaturebestforest_bt(poly_train_data_v1,train_labels,(3,6))"
   ]
  },
  {
   "cell_type": "code",
   "execution_count": 304,
   "metadata": {},
   "outputs": [
    {
     "name": "stdout",
     "output_type": "stream",
     "text": [
      "{'class_weight': 'balanced', 'max_features': 'auto', 'n_estimators': 300}\n",
      "0.8624742979624106\n",
      "[ 325  111   65 ..., 1048 1049    0]\n"
     ]
    }
   ],
   "source": [
    "c6_c3_ofbf_pv1_bt=onefeaturebestforest_bt(poly_train_data_v1,train_labels,(6,3))"
   ]
  },
  {
   "cell_type": "code",
   "execution_count": 402,
   "metadata": {},
   "outputs": [
    {
     "name": "stdout",
     "output_type": "stream",
     "text": [
      "{'class_weight': 'balanced', 'max_features': 'auto', 'n_estimators': 300}\n",
      "0.8535587541053087\n",
      "[   1   59   69 ..., 1048 1049    0]\n"
     ]
    }
   ],
   "source": [
    "c6_c3_c4_ofbf_pv1_bt=onefeaturebestforest_bt(poly_train_data_v1,train_labels,(6,3,4))"
   ]
  },
  {
   "cell_type": "code",
   "execution_count": 290,
   "metadata": {},
   "outputs": [
    {
     "name": "stdout",
     "output_type": "stream",
     "text": [
      "{'class_weight': 'balanced', 'max_features': 'auto', 'n_estimators': 300}\n",
      "0.8450093910183755\n",
      "[   1   68   11 ..., 1020 1021    0]\n"
     ]
    }
   ],
   "source": [
    "c3_c2_c6_ofbf_pv1_bt=onefeaturebestforest_bt(poly_train_data_v1,train_labels,(3,2,6))"
   ]
  },
  {
   "cell_type": "code",
   "execution_count": 430,
   "metadata": {},
   "outputs": [
    {
     "name": "stdout",
     "output_type": "stream",
     "text": [
      "{'class_weight': 'balanced', 'max_features': 'auto', 'n_estimators': 300}\n",
      "0.8493432993067396\n",
      "[   1   68   11 ..., 1023 1024    0]\n"
     ]
    }
   ],
   "source": [
    "c6_c2_c3_ofbf_pv1_bt=onefeaturebestforest_bt(poly_train_data_v1,train_labels,(6,2,3))"
   ]
  },
  {
   "cell_type": "code",
   "execution_count": 291,
   "metadata": {},
   "outputs": [
    {
     "name": "stdout",
     "output_type": "stream",
     "text": [
      "{'class_weight': 'balanced', 'max_features': 35, 'n_estimators': 300}\n",
      "0.8248112190900774\n",
      "[ 228   59   56 ..., 1046 1047    0]\n"
     ]
    }
   ],
   "source": [
    "c3_c4_c6_ofbf_pv1_bt=onefeaturebestforest_bt(poly_train_data_v1,train_labels,(3,4,6))"
   ]
  },
  {
   "cell_type": "code",
   "execution_count": null,
   "metadata": {
    "collapsed": true
   },
   "outputs": [],
   "source": []
  },
  {
   "cell_type": "code",
   "execution_count": 17,
   "metadata": {},
   "outputs": [
    {
     "name": "stdout",
     "output_type": "stream",
     "text": [
      "{'max_features': 'auto', 'n_estimators': 150}\n",
      "0.7535796103446443\n",
      "[ 52   1  64 ..., 905 906   0]\n",
      "{'max_features': 25, 'n_estimators': 150}\n",
      "0.7570523383341604\n",
      "[  1  52  64 ..., 905 906   0]\n",
      "{'max_features': None, 'n_estimators': 150}\n",
      "0.7425975324529844\n",
      "[  1 302  61 ..., 906 907   0]\n",
      "{'max_features': None, 'n_estimators': 150}\n",
      "0.9301632424853032\n",
      "[  1 302  57 ..., 912 914   0]\n",
      "{'max_features': 'auto', 'n_estimators': 150}\n",
      "0.7214601071375559\n",
      "[  1  52  64 ..., 904 905   0]\n",
      "{'max_features': None, 'n_estimators': 150}\n",
      "0.842034507848609\n",
      "[350  55 103 ..., 919 920   0]\n",
      "{'max_features': None, 'n_estimators': 150}\n",
      "0.8590683169637988\n",
      "[  1 103 301 ..., 915 916   0]\n",
      "{'max_features': None, 'n_estimators': 150}\n",
      "0.8176296268665495\n",
      "[  1  52 350 ..., 906 907   0]\n",
      "{'max_features': None, 'n_estimators': 150}\n",
      "0.9630095243102461\n",
      "[ 65 358  57 ..., 921 922   0]\n",
      "{'max_features': None, 'n_estimators': 150}\n",
      "0.9454402393027751\n",
      "[  1  52 350 ..., 906 907   0]\n",
      "{'max_features': None, 'n_estimators': 150}\n",
      "0.9334007560840983\n",
      "[  1 302  57 ..., 910 911   0]\n",
      "{'max_features': None, 'n_estimators': 150}\n",
      "0.9241235968717956\n",
      "[  1  52 302 ..., 911 912   0]\n",
      "{'max_features': None, 'n_estimators': 150}\n",
      "0.9247579112188509\n",
      "[  1 302  52 ..., 908 909   0]\n",
      "{'max_features': None, 'n_estimators': 150}\n",
      "0.9136410478663638\n",
      "[  1  52 302 ..., 906 907   0]\n",
      "{'max_features': 'auto', 'n_estimators': 150}\n",
      "0.9083753824598115\n",
      "[  1  52  64 ..., 905 906   0]\n",
      "{'max_features': 'auto', 'n_estimators': 150}\n",
      "0.9100206515413006\n",
      "[  1  52  64 ..., 904 905   0]\n",
      "{'max_features': None, 'n_estimators': 150}\n",
      "0.8789415283019327\n",
      "[103 301 211 ..., 917 918   0]\n",
      "{'max_features': None, 'n_estimators': 150}\n",
      "0.8459816559316926\n",
      "[  1 350  55 ..., 915 916   0]\n",
      "{'max_features': None, 'n_estimators': 150}\n",
      "0.8390285555594048\n",
      "[  1 350  52 ..., 909 910   0]\n",
      "{'max_features': None, 'n_estimators': 150}\n",
      "0.8442928205487064\n",
      "[  1  52 350 ..., 905 906   0]\n",
      "{'max_features': None, 'n_estimators': 150}\n",
      "0.9500272452021474\n",
      "[  1  52 301 ..., 913 914   0]\n",
      "{'max_features': 'auto', 'n_estimators': 150}\n",
      "0.9455700813293016\n",
      "[  1  52  64 ..., 904 905   0]\n"
     ]
    }
   ],
   "source": [
    "#c1_c2_ofbf_p=onefeaturebestforest(poly_train_data,train_labels,(1,2))\n",
    "c1_c2_c7_ofbf_p=onefeaturebestforest(poly_train_data,train_labels,(1,2,7))\n",
    "#c1_c2_c5_c7_ofbf_p=onefeaturebestforest(poly_train_data,train_labels,(1,2,7,5))\n",
    "c1_all_ofbf_p=onefeaturebestforest(poly_train_data,train_labels,(1,2,3,4,5,6,7))\n",
    "\n",
    "#c2_c1_ofbf_p=onefeaturebestforest(poly_train_data,train_labels,(2,1))\n",
    "c2_c1_c5_ofbf_p=onefeaturebestforest(poly_train_data,train_labels,(2,1,5))\n",
    "c2_c5_ofbf_p=onefeaturebestforest(poly_train_data,train_labels,(2,5))\n",
    "#c2_c1_c3_c5_c6_ofbf_p=onefeaturebestforest(poly_train_data,train_labels,(2,1,3,5,6))\n",
    "c2_all_ofbf_p=onefeaturebestforest(poly_train_data,train_labels,(2,1,3,4,5,6,7))\n",
    "\n",
    "#c3_c6_ofbf_p=onefeaturebestforest(poly_train_data,train_labels,(3,6))\n",
    "c3_c4_c6_ofbf_p=onefeaturebestforest(poly_train_data,train_labels,(3,4,6))\n",
    "c3_c2_c6_ofbf_p=onefeaturebestforest(poly_train_data,train_labels,(3,2,6))\n",
    "#c3_c2_c4_c6_ofbf_p=onefeaturebestforest(poly_train_data,train_labels,(3,2,4,6))\n",
    "c3_all_ofbf_p=onefeaturebestforest(poly_train_data,train_labels,(3,1,2,4,5,6,7))\n",
    "\n",
    "c4_c3_ofbf_p=onefeaturebestforest(poly_train_data,train_labels,(4,3))\n",
    "#c4_c3_c6_ofbf_p=onefeaturebestforest(poly_train_data,train_labels,(4,3,6))\n",
    "c4_all_ofbf_p=onefeaturebestforest(poly_train_data,train_labels,(4,1,2,3,5,6,7))\n",
    "\n",
    "c5_c2_ofbf_p=onefeaturebestforest(poly_train_data,train_labels,(5,2))\n",
    "c5_c2_c6_ofbf_p=onefeaturebestforest(poly_train_data,train_labels,(5,2,6))\n",
    "c5_c1_c2_ofbf_p=onefeaturebestforest(poly_train_data,train_labels,(5,2,1))\n",
    "c5_c1_c2_c6_ofbf_p=onefeaturebestforest(poly_train_data,train_labels,(5,2,1,6))\n",
    "c5_c1_c2_c3_c6_ofbf_p=onefeaturebestforest(poly_train_data,train_labels,(5,2,1,3,6))\n",
    "c5_all_ofbf_p=onefeaturebestforest(poly_train_data,train_labels,(5,1,2,3,4,6,7))\n",
    "\n",
    "c6_c3_ofbf_p=onefeaturebestforest(poly_train_data,train_labels,(6,3))\n",
    "c6_c2_c3_c4_ofbf_p=onefeaturebestforest(poly_train_data,train_labels,(6,2,3,4))\n",
    "c6_c2_c3_c4_c5_ofbf_p=onefeaturebestforest(poly_train_data,train_labels,(6,2,3,4,5))\n",
    "c6_all_ofbf_p=onefeaturebestforest(poly_train_data,train_labels,(6,1,2,3,4,5,7))\n",
    "\n",
    "c7_c1_ofbf_p=onefeaturebestforest(poly_train_data,train_labels,(7,1))\n",
    "c7_all_ofbf_p=onefeaturebestforest(poly_train_data,train_labels,(7,1,2,3,4,5,6))"
   ]
  },
  {
   "cell_type": "code",
   "execution_count": 74,
   "metadata": {},
   "outputs": [
    {
     "name": "stdout",
     "output_type": "stream",
     "text": [
      "{'max_features': 25, 'n_estimators': 150}\n",
      "0.7545406547216285\n",
      "[  56    1  110 ..., 1005 1006    0]\n",
      "{'max_features': 'auto', 'n_estimators': 150}\n",
      "0.7612856884220641\n",
      "[   1  110   56 ..., 1005 1006    0]\n",
      "{'max_features': None, 'n_estimators': 150}\n",
      "0.743859492022732\n",
      "[   1   65  326 ..., 1020 1021    0]\n",
      "{'max_features': 'auto', 'n_estimators': 150}\n",
      "0.9282285891734952\n",
      "[   1  110   56 ..., 1031 1032    0]\n",
      "{'max_features': 25, 'n_estimators': 150}\n",
      "0.712343696458878\n",
      "[   1  110   56 ..., 1004 1005    0]\n",
      "{'max_features': None, 'n_estimators': 150}\n",
      "0.8455750408115772\n",
      "[ 378  111  110 ..., 1059 1060    0]\n",
      "{'max_features': None, 'n_estimators': 150}\n",
      "0.855876536915733\n",
      "[   1  111  325 ..., 1052 1053    0]\n",
      "{'max_features': None, 'n_estimators': 150}\n",
      "0.821838275190033\n",
      "[   1   56  378 ..., 1013 1014    0]\n",
      "{'max_features': None, 'n_estimators': 150}\n",
      "0.9598275670555071\n",
      "[ 110  386   72 ..., 1066 1067    0]\n",
      "{'max_features': None, 'n_estimators': 150}\n",
      "0.9472027561068626\n",
      "[   1   56  378 ..., 1015 1016    0]\n",
      "{'max_features': 'auto', 'n_estimators': 150}\n",
      "0.9317786275304603\n",
      "[ 110    1   56 ..., 1024 1025    0]\n",
      "{'max_features': 'auto', 'n_estimators': 150}\n",
      "0.9199997854585636\n",
      "[   1  110   56 ..., 1023 1024    0]\n",
      "{'max_features': 'auto', 'n_estimators': 150}\n",
      "0.924366611652569\n",
      "[   1  110   56 ..., 1008 1009    0]\n",
      "{'max_features': 'auto', 'n_estimators': 150}\n",
      "0.9142048373977588\n",
      "[   1  110   56 ..., 1009 1010    0]\n",
      "{'max_features': 'auto', 'n_estimators': 150}\n",
      "0.9081258566044957\n",
      "[   1  110   56 ..., 1011 1012    0]\n",
      "{'max_features': None, 'n_estimators': 150}\n",
      "0.9081149364497421\n",
      "[   1   56  378 ..., 1016 1017    0]\n",
      "{'max_features': None, 'n_estimators': 150}\n",
      "0.8735767139943692\n",
      "[ 111  325  227 ..., 1060 1061    0]\n",
      "{'max_features': None, 'n_estimators': 150}\n",
      "0.8451699890526506\n",
      "[   1  378  110 ..., 1054 1055    0]\n",
      "{'max_features': None, 'n_estimators': 150}\n",
      "0.8423961835854042\n",
      "[   1  378   56 ..., 1038 1039    0]\n",
      "{'max_features': None, 'n_estimators': 150}\n",
      "0.8363774010974125\n",
      "[   1   56  378 ..., 1011 1012    0]\n",
      "{'max_features': 25, 'n_estimators': 150}\n",
      "0.944820465287675\n",
      "[   1   56  110 ..., 1019 1020    0]\n",
      "{'max_features': 'auto', 'n_estimators': 150}\n",
      "0.9427114812476922\n",
      "[   1  110   56 ..., 1005 1006    0]\n"
     ]
    }
   ],
   "source": [
    "#c1_c2_ofbf_pv1=onefeaturebestforest(poly_train_data_v1,train_labels,(1,2))\n",
    "c1_c2_c7_ofbf_pv1=onefeaturebestforest(poly_train_data_v1,train_labels,(1,2,7))\n",
    "#c1_c2_c5_c7_ofbf_pv1=onefeaturebestforest(poly_train_data_v1,train_labels,(1,2,7,5))\n",
    "c1_all_ofbf_pv1=onefeaturebestforest(poly_train_data_v1,train_labels,(1,2,3,4,5,6,7))\n",
    "\n",
    "#c2_c1_ofbf_pv1=onefeaturebestforest(poly_train_data_v1,train_labels,(2,1))\n",
    "c2_c1_c5_ofbf_pv1=onefeaturebestforest(poly_train_data_v1,train_labels,(2,1,5))\n",
    "c2_c5_ofbf_pv1=onefeaturebestforest(poly_train_data_v1,train_labels,(2,5))\n",
    "#c2_c1_c3_c5_c6_ofbf_pv1=onefeaturebestforest(poly_train_data_v1,train_labels,(2,1,3,5,6))\n",
    "c2_all_ofbf_pv1=onefeaturebestforest(poly_train_data_v1,train_labels,(2,1,3,4,5,6,7))\n",
    "\n",
    "#c3_c6_ofbf_pv1=onefeaturebestforest(poly_train_data_v1,train_labels,(3,6))\n",
    "c3_c4_c6_ofbf_pv1=onefeaturebestforest(poly_train_data_v1,train_labels,(3,4,6))\n",
    "c3_c2_c6_ofbf_pv1=onefeaturebestforest(poly_train_data_v1,train_labels,(3,2,6))\n",
    "#c3_c2_c4_c6_ofbf_pv1=onefeaturebestforest(poly_train_data_v1,train_labels,(3,2,4,6))\n",
    "c3_all_ofbf_pv1=onefeaturebestforest(poly_train_data_v1,train_labels,(3,1,2,4,5,6,7))\n",
    "\n",
    "c4_c3_ofbf_pv1=onefeaturebestforest(poly_train_data_v1,train_labels,(4,3))\n",
    "#c4_c3_c6_ofbf_pv1=onefeaturebestforest(poly_train_data_v1,train_labels,(4,3,6))\n",
    "c4_all_ofbf_pv1=onefeaturebestforest(poly_train_data_v1,train_labels,(4,1,2,3,5,6,7))\n",
    "\n",
    "c5_c2_ofbf_pv1=onefeaturebestforest(poly_train_data_v1,train_labels,(5,2))\n",
    "c5_c2_c6_ofbf_pv1=onefeaturebestforest(poly_train_data_v1,train_labels,(5,2,6))\n",
    "c5_c1_c2_ofbf_pv1=onefeaturebestforest(poly_train_data_v1,train_labels,(5,2,1))\n",
    "c5_c1_c2_c6_ofbf_pv1=onefeaturebestforest(poly_train_data_v1,train_labels,(5,2,1,6))\n",
    "c5_c1_c2_c3_c6_ofbf_pv1=onefeaturebestforest(poly_train_data_v1,train_labels,(5,2,1,3,6))\n",
    "c5_all_ofbf_pv1=onefeaturebestforest(poly_train_data_v1,train_labels,(5,1,2,3,4,6,7))\n",
    "\n",
    "c6_c3_ofbf_pv1=onefeaturebestforest(poly_train_data_v1,train_labels,(6,3))\n",
    "c6_c2_c3_c4_ofbf_pv1=onefeaturebestforest(poly_train_data_v1,train_labels,(6,2,3,4))\n",
    "c6_c2_c3_c4_c5_ofbf_pv1=onefeaturebestforest(poly_train_data_v1,train_labels,(6,2,3,4,5))\n",
    "c6_all_ofbf_pv1=onefeaturebestforest(poly_train_data_v1,train_labels,(6,1,2,3,4,5,7))\n",
    "\n",
    "c7_c1_ofbf_pv1=onefeaturebestforest(poly_train_data_v1,train_labels,(7,1))\n",
    "c7_all_ofbf_pv1=onefeaturebestforest(poly_train_data_v1,train_labels,(7,1,2,3,4,5,6))"
   ]
  },
  {
   "cell_type": "code",
   "execution_count": 15,
   "metadata": {},
   "outputs": [
    {
     "name": "stdout",
     "output_type": "stream",
     "text": [
      "{'max_features': 25, 'n_estimators': 150}\n",
      "0.7510887087933135\n",
      "[   1  110   56 ..., 1008 1009    0]\n",
      "{'max_features': 'auto', 'n_estimators': 150}\n",
      "0.7580437315663723\n",
      "[ 110    1   56 ..., 1008 1009    0]\n",
      "{'max_features': None, 'n_estimators': 150}\n",
      "0.7446540561571048\n",
      "[   1  326   65 ..., 1025 1026    0]\n",
      "{'max_features': None, 'n_estimators': 150}\n",
      "0.9320660122657575\n",
      "[   1  326   61 ..., 1042 1043    0]\n",
      "{'max_features': 25, 'n_estimators': 150}\n",
      "0.7220513030712924\n",
      "[   1  110   56 ..., 1004 1005    0]\n",
      "{'max_features': None, 'n_estimators': 150}\n",
      "0.8381663020527379\n",
      "[ 378  110  218 ..., 1060 1061    0]\n",
      "{'max_features': None, 'n_estimators': 150}\n",
      "0.8542139456956062\n",
      "[   1  218  325 ..., 1054 1055    0]\n",
      "{'max_features': None, 'n_estimators': 150}\n",
      "0.8123500197173819\n",
      "[   1   56  378 ..., 1013 1014    0]\n",
      "{'max_features': None, 'n_estimators': 150}\n",
      "0.9591727007456076\n",
      "[ 110  386   69 ..., 1067 1068    0]\n",
      "{'max_features': None, 'n_estimators': 150}\n",
      "0.9407156671451061\n",
      "[   1   56  378 ..., 1017 1018    0]\n",
      "{'max_features': None, 'n_estimators': 150}\n",
      "0.9336772094241281\n",
      "[   1  326   61 ..., 1043 1044    0]\n",
      "{'max_features': None, 'n_estimators': 150}\n",
      "0.9230946435474242\n",
      "[   1   56  326 ..., 1038 1039    0]\n",
      "{'max_features': None, 'n_estimators': 150}\n",
      "0.9235889562598413\n",
      "[   1  326   56 ..., 1025 1026    0]\n",
      "{'max_features': 'auto', 'n_estimators': 150}\n",
      "0.9144874529288353\n",
      "[ 110    1   56 ..., 1009 1010    0]\n",
      "{'max_features': 15, 'n_estimators': 150}\n",
      "0.9054968993751841\n",
      "[   1  110   56 ..., 1006 1007    0]\n",
      "{'max_features': 15, 'n_estimators': 150}\n",
      "0.9071325632504783\n",
      "[   1   56  110 ...,  999 1002    0]\n",
      "{'max_features': None, 'n_estimators': 150}\n",
      "0.8727951171676008\n",
      "[ 218  325  122 ..., 1062 1063    0]\n",
      "{'max_features': None, 'n_estimators': 150}\n",
      "0.8378687506149661\n",
      "[   1  378  110 ..., 1053 1054    0]\n",
      "{'max_features': None, 'n_estimators': 150}\n",
      "0.8354785547688545\n",
      "[   1  378   56 ..., 1038 1039    0]\n",
      "{'max_features': None, 'n_estimators': 150}\n",
      "0.8389556817646714\n",
      "[   1   56  378 ..., 1015 1016    0]\n",
      "{'max_features': None, 'n_estimators': 150}\n",
      "0.9497199368488444\n",
      "[  56    1  325 ..., 1035 1036    0]\n",
      "{'max_features': 'auto', 'n_estimators': 150}\n",
      "0.9448803208437794\n",
      "[   1  110   56 ..., 1008 1009    0]\n"
     ]
    }
   ],
   "source": [
    "#c1_c2_ofbf_pv2=onefeaturebestforest(poly_train_data_v2,train_labels,(1,2))\n",
    "c1_c2_c7_ofbf_pv2=onefeaturebestforest(poly_train_data_v2,train_labels,(1,2,7))\n",
    "#c1_c2_c5_c7_ofbf_pv2=onefeaturebestforest(poly_train_data_v2,train_labels,(1,2,7,5))\n",
    "c1_all_ofbf_pv2=onefeaturebestforest(poly_train_data_v2,train_labels,(1,2,3,4,5,6,7))\n",
    "\n",
    "#c2_c1_ofbf_pv2=onefeaturebestforest(poly_train_data_v2,train_labels,(2,1))\n",
    "c2_c1_c5_ofbf_pv2=onefeaturebestforest(poly_train_data_v2,train_labels,(2,1,5))\n",
    "c2_c5_ofbf_pv2=onefeaturebestforest(poly_train_data_v2,train_labels,(2,5))\n",
    "#c2_c1_c3_c5_c6_ofbf_pv2=onefeaturebestforest(poly_train_data_v2,train_labels,(2,1,3,5,6))\n",
    "c2_all_ofbf_pv2=onefeaturebestforest(poly_train_data_v2,train_labels,(2,1,3,4,5,6,7))\n",
    "\n",
    "#c3_c6_ofbf_pv2=onefeaturebestforest(poly_train_data_v2,train_labels,(3,6))\n",
    "c3_c4_c6_ofbf_pv2=onefeaturebestforest(poly_train_data_v2,train_labels,(3,4,6))\n",
    "c3_c2_c6_ofbf_pv2=onefeaturebestforest(poly_train_data_v2,train_labels,(3,2,6))\n",
    "#c3_c2_c4_c6_ofbf_pv2=onefeaturebestforest(poly_train_data_v2,train_labels,(3,2,4,6))\n",
    "c3_all_ofbf_pv2=onefeaturebestforest(poly_train_data_v2,train_labels,(3,1,2,4,5,6,7))\n",
    "\n",
    "c4_c3_ofbf_pv2=onefeaturebestforest(poly_train_data_v2,train_labels,(4,3))\n",
    "#c4_c3_c6_ofbf_pv2=onefeaturebestforest(poly_train_data_v2,train_labels,(4,3,6))\n",
    "c4_all_ofbf_pv2=onefeaturebestforest(poly_train_data_v2,train_labels,(4,1,2,3,5,6,7))\n",
    "\n",
    "c5_c2_ofbf_pv2=onefeaturebestforest(poly_train_data_v2,train_labels,(5,2))\n",
    "c5_c2_c6_ofbf_pv2=onefeaturebestforest(poly_train_data_v2,train_labels,(5,2,6))\n",
    "c5_c1_c2_ofbf_pv2=onefeaturebestforest(poly_train_data_v2,train_labels,(5,2,1))\n",
    "c5_c1_c2_c6_ofbf_pv2=onefeaturebestforest(poly_train_data_v2,train_labels,(5,2,1,6))\n",
    "c5_c1_c2_c3_c6_ofbf_pv2=onefeaturebestforest(poly_train_data_v2,train_labels,(5,2,1,3,6))\n",
    "c5_all_ofbf_pv2=onefeaturebestforest(poly_train_data_v2,train_labels,(5,1,2,3,4,6,7))\n",
    "\n",
    "c6_c3_ofbf_pv2=onefeaturebestforest(poly_train_data_v2,train_labels,(6,3))\n",
    "c6_c2_c3_c4_ofbf_pv2=onefeaturebestforest(poly_train_data_v2,train_labels,(6,2,3,4))\n",
    "c6_c2_c3_c4_c5_ofbf_pv2=onefeaturebestforest(poly_train_data_v2,train_labels,(6,2,3,4,5))\n",
    "c6_all_ofbf_pv2=onefeaturebestforest(poly_train_data_v2,train_labels,(6,1,2,3,4,5,7))\n",
    "\n",
    "c7_c1_ofbf_pv2=onefeaturebestforest(poly_train_data_v2,train_labels,(7,1))\n",
    "c7_all_ofbf_pv2=onefeaturebestforest(poly_train_data_v2,train_labels,(7,1,2,3,4,5,6))"
   ]
  },
  {
   "cell_type": "code",
   "execution_count": 182,
   "metadata": {},
   "outputs": [
    {
     "name": "stdout",
     "output_type": "stream",
     "text": [
      "{'max_features': 'auto', 'n_estimators': 300}\n",
      "0.9421646494359116\n",
      "[  56    1  110 ..., 1019 1020    0]\n",
      "{'max_features': 'auto', 'n_estimators': 300}\n",
      "0.7581103223797014\n",
      "[  56    1  110 ..., 1005 1006    0]\n",
      "{'max_features': 'auto', 'n_estimators': 300}\n",
      "0.7606565314848993\n",
      "[   1   56  110 ..., 1002 1003    0]\n",
      "{'max_features': 12, 'n_estimators': 300}\n",
      "0.8036128632259317\n",
      "[  56    1  110 ..., 1007 1008    0]\n",
      "{'max_features': 35, 'n_estimators': 300}\n",
      "0.7431957535107429\n",
      "[  56    1  110 ..., 1005 1006    0]\n",
      "{'max_features': 'auto', 'n_estimators': 300}\n",
      "0.929076028839538\n",
      "[  56    1  110 ..., 1021 1022    0]\n",
      "{'max_features': 'auto', 'n_estimators': 300}\n",
      "0.7201040588169856\n",
      "[   1  110   56 ..., 1007 1008    0]\n",
      "{'max_features': 25, 'n_estimators': 300}\n",
      "0.7215487054026615\n",
      "[110   1  56 ..., 998 999   0]\n",
      "{'max_features': 35, 'n_estimators': 300}\n",
      "0.862285835074686\n",
      "[ 325  111   61 ..., 1053 1054    0]\n",
      "{'max_features': 35, 'n_estimators': 300}\n",
      "0.8327240069628468\n",
      "[  69  228   56 ..., 1050 1051    0]\n",
      "{'max_features': 'auto', 'n_estimators': 300}\n",
      "0.8508727578249635\n",
      "[   1  110   68 ..., 1029 1030    0]\n",
      "{'max_features': 'auto', 'n_estimators': 300}\n",
      "0.8196944546052098\n",
      "[   1  110   68 ..., 1028 1029    0]\n",
      "{'max_features': 'auto', 'n_estimators': 300}\n",
      "0.8119660198082725\n",
      "[   1  110   56 ..., 1003 1004    0]\n",
      "{'max_features': 'auto', 'n_estimators': 300}\n",
      "0.9572171199026933\n",
      "[ 279   59   69 ..., 1064 1065    0]\n",
      "{'max_features': 'auto', 'n_estimators': 300}\n",
      "0.9452855742378454\n",
      "[  59    1   56 ..., 1053 1054    0]\n",
      "{'max_features': 35, 'n_estimators': 300}\n",
      "0.94487758820541\n",
      "[   1  110   56 ...,  999 1002    0]\n",
      "{'max_features': 35, 'n_estimators': 300}\n",
      "0.9338592727320495\n",
      "[   1   56  110 ..., 1020 1021    0]\n",
      "{'max_features': 'auto', 'n_estimators': 300}\n",
      "0.9259637359915174\n",
      "[   1  110   56 ..., 1020 1021    0]\n",
      "{'max_features': 'auto', 'n_estimators': 300}\n",
      "0.92552415396434\n",
      "[   1   56  110 ..., 1004 1005    0]\n",
      "{'max_features': 'auto', 'n_estimators': 300}\n",
      "0.9181748950044177\n",
      "[   1  110   56 ..., 1008 1009    0]\n",
      "{'max_features': 'auto', 'n_estimators': 300}\n",
      "0.9116215968063068\n",
      "[   1  110   56 ..., 1005 1006    0]\n",
      "{'max_features': 'auto', 'n_estimators': 300}\n",
      "0.911724460283209\n",
      "[  1 110  56 ..., 998 999   0]\n",
      "{'max_features': 'auto', 'n_estimators': 300}\n",
      "0.8683732187204712\n",
      "[ 111  325   61 ..., 1053 1054    0]\n",
      "{'max_features': 'auto', 'n_estimators': 300}\n",
      "0.8604265015247672\n",
      "[ 228  110   69 ..., 1051 1052    0]\n",
      "{'max_features': 35, 'n_estimators': 300}\n",
      "0.8517698314202203\n",
      "[   1  110   68 ..., 1029 1030    0]\n",
      "{'max_features': 'auto', 'n_estimators': 300}\n",
      "0.839983268157932\n",
      "[   1  110   68 ..., 1027 1028    0]\n",
      "{'max_features': 'auto', 'n_estimators': 300}\n",
      "0.8373661165579537\n",
      "[   1  110   56 ..., 1018 1019    0]\n",
      "{'max_features': 35, 'n_estimators': 300}\n",
      "0.8347303087077595\n",
      "[   1  110   56 ..., 1002 1003    0]\n",
      "{'max_features': 'auto', 'n_estimators': 300}\n",
      "0.9434945077940303\n",
      "[   1  110   56 ..., 1018 1019    0]\n",
      "{'max_features': 35, 'n_estimators': 300}\n",
      "0.9398638532994718\n",
      "[   1  110   56 ..., 1006 1007    0]\n",
      "{'max_features': 25, 'n_estimators': 300}\n",
      "0.9441712704055042\n",
      "[   1  110   56 ...,  999 1002    0]\n"
     ]
    }
   ],
   "source": [
    "c1_c2_ofbf_pver1=onefeaturebestforest(poly_train_data_v1,train_labels,(1,7))\n",
    "c1_c2_c7_ofbf_pver1=onefeaturebestforest(poly_train_data_v1,train_labels,(1,2,7))\n",
    "c1_c2_c5_c7_ofbf_pver1=onefeaturebestforest(poly_train_data_v1,train_labels,(1,2,7,5))\n",
    "#c1_all_ofbf_pver1=onefeaturebestforest(poly_train_data_v1,train_labels,(1,2,3,4,5,6,7))\n",
    "\n",
    "c2_c1_ofbf_pver1=onefeaturebestforest(poly_train_data_v1,train_labels,(2,1))\n",
    "c2_c1_c5_ofbf_pver1=onefeaturebestforest(poly_train_data_v1,train_labels,(2,1,5))\n",
    "c2_c5_ofbf_pver1=onefeaturebestforest(poly_train_data_v1,train_labels,(2,5))\n",
    "c2_c1_c3_c5_c6_ofbf_pver1=onefeaturebestforest(poly_train_data_v1,train_labels,(2,1,3,5,6))\n",
    "c2_all_ofbf_pver1=onefeaturebestforest(poly_train_data_v1,train_labels,(2,1,3,4,5,6,7))\n",
    "\n",
    "c3_c6_ofbf_pver1=onefeaturebestforest(poly_train_data_v1,train_labels,(3,6))\n",
    "c3_c4_c6_ofbf_pver1=onefeaturebestforest(poly_train_data_v1,train_labels,(3,4,6))\n",
    "c3_c2_c6_ofbf_pver1=onefeaturebestforest(poly_train_data_v1,train_labels,(3,2,6))\n",
    "c3_c2_c4_c6_ofbf_pver1=onefeaturebestforest(poly_train_data_v1,train_labels,(3,2,4,6))\n",
    "c3_all_ofbf_pver1=onefeaturebestforest(poly_train_data_v1,train_labels,(3,1,2,4,5,6,7))\n",
    "\n",
    "c4_c3_ofbf_pver1=onefeaturebestforest(poly_train_data_v1,train_labels,(4,3))\n",
    "c4_c3_c6_ofbf_pver1=onefeaturebestforest(poly_train_data_v1,train_labels,(4,3,6))\n",
    "c4_all_ofbf_pver1=onefeaturebestforest(poly_train_data_v1,train_labels,(4,1,2,3,5,6,7))\n",
    "\n",
    "c5_c2_ofbf_pver1=onefeaturebestforest(poly_train_data_v1,train_labels,(5,2))\n",
    "c5_c2_c6_ofbf_pver1=onefeaturebestforest(poly_train_data_v1,train_labels,(5,2,6))\n",
    "c5_c1_c2_ofbf_pver1=onefeaturebestforest(poly_train_data_v1,train_labels,(5,2,1))\n",
    "c5_c1_c2_c6_ofbf_pver1=onefeaturebestforest(poly_train_data_v1,train_labels,(5,2,1,6))\n",
    "c5_c1_c2_c3_c6_ofbf_pver1=onefeaturebestforest(poly_train_data_v1,train_labels,(5,2,1,3,6))\n",
    "c5_all_ofbf_pver1=onefeaturebestforest(poly_train_data_v1,train_labels,(5,1,2,3,4,6,7))\n",
    "\n",
    "c6_c3_ofbf_pver1=onefeaturebestforest(poly_train_data_v1,train_labels,(6,3))\n",
    "c6_c3_c4_ofbf_pver1=onefeaturebestforest(poly_train_data_v1,train_labels,(6,3,4))\n",
    "c6_c2_c3_ofbf_pver1=onefeaturebestforest(poly_train_data_v1,train_labels,(6,3,2))\n",
    "c6_c2_c3_c4_ofbf_pver1=onefeaturebestforest(poly_train_data_v1,train_labels,(6,2,3,4))\n",
    "c6_c2_c3_c4_c5_ofbf_pver1=onefeaturebestforest(poly_train_data_v1,train_labels,(6,2,3,4,5))\n",
    "c6_all_ofbf_pver1=onefeaturebestforest(poly_train_data_v1,train_labels,(6,1,2,3,4,5,7))\n",
    "\n",
    "c7_c1_ofbf_pver1=onefeaturebestforest(poly_train_data_v1,train_labels,(7,1))\n",
    "c7_c1_ofbf_pver1=onefeaturebestforest(poly_train_data_v1,train_labels,(7,1,2))\n",
    "c7_all_ofbf_pver1=onefeaturebestforest(poly_train_data_v1,train_labels,(7,1,2,3,4,5,6))"
   ]
  },
  {
   "cell_type": "code",
   "execution_count": null,
   "metadata": {
    "collapsed": true
   },
   "outputs": [],
   "source": []
  },
  {
   "cell_type": "code",
   "execution_count": 92,
   "metadata": {
    "collapsed": true
   },
   "outputs": [],
   "source": []
  }
 ],
 "metadata": {
  "kernelspec": {
   "display_name": "Python 3",
   "language": "python",
   "name": "python3"
  },
  "language_info": {
   "codemirror_mode": {
    "name": "ipython",
    "version": 3
   },
   "file_extension": ".py",
   "mimetype": "text/x-python",
   "name": "python",
   "nbconvert_exporter": "python",
   "pygments_lexer": "ipython3",
   "version": "3.6.1"
  }
 },
 "nbformat": 4,
 "nbformat_minor": 1
}
